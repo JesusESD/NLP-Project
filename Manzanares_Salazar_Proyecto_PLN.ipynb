{
  "cells": [
    {
      "cell_type": "markdown",
      "id": "4b00f678-39f7-4be2-aa51-cc4737fcd1a0",
      "metadata": {
        "id": "4b00f678-39f7-4be2-aa51-cc4737fcd1a0"
      },
      "source": [
        "\n",
        "# Proyecto de Procesamiento de Lenguaje Natural"
      ]
    },
    {
      "cell_type": "markdown",
      "source": [
        "Autores:\n",
        "- Manzanares Peña Jorge Luis\n",
        "- Salazar Domínguez Jesús Eduardo"
      ],
      "metadata": {
        "id": "vMg273Rl6ob5"
      },
      "id": "vMg273Rl6ob5"
    },
    {
      "cell_type": "markdown",
      "source": [
        "Fuente Dataset:\n",
        "- https://www.kaggle.com/datasets/amananandrai/ag-news-classification-dataset?select=train.csv\n",
        "\n",
        "IDs de las categorías de noticias:\n",
        "- 0: Internacionales\n",
        "- 1: Deportes\n",
        "- 2: Negocios\n",
        "- 3: Ciencia y Tecnología\n"
      ],
      "metadata": {
        "id": "-4mIMVbOqH-P"
      },
      "id": "-4mIMVbOqH-P"
    },
    {
      "cell_type": "markdown",
      "id": "9d1cd0c3-599d-4c44-a4df-fb42b5f49bb1",
      "metadata": {
        "id": "9d1cd0c3-599d-4c44-a4df-fb42b5f49bb1"
      },
      "source": [
        "## Preprocesamiento"
      ]
    },
    {
      "cell_type": "markdown",
      "source": [
        "- Importación de bibliotecas"
      ],
      "metadata": {
        "id": "CzkGHPJkKteJ"
      },
      "id": "CzkGHPJkKteJ"
    },
    {
      "cell_type": "code",
      "execution_count": 1,
      "id": "d1458c2c-1dfe-4638-8655-a28df1ccd4ef",
      "metadata": {
        "id": "d1458c2c-1dfe-4638-8655-a28df1ccd4ef"
      },
      "outputs": [],
      "source": [
        "import pandas as pd\n",
        "import string\n",
        "import sklearn as sk\n",
        "from sklearn.metrics import multilabel_confusion_matrix\n",
        "from sklearn.metrics import ConfusionMatrixDisplay\n",
        "from sklearn.metrics import confusion_matrix\n",
        "import matplotlib.pyplot as plot\n",
        "from sklearn.metrics import classification_report\n",
        "import numpy as np\n",
        "import os\n",
        "os.environ['TF_CPP_MIN_LOG_LEVEL'] = '3' # Disable tensorflow debugging logs\n",
        "import tensorflow as tf\n",
        "from tensorflow.keras.layers import TextVectorization\n",
        "from tensorflow.keras import Sequential\n",
        "from tensorflow.keras import layers\n",
        "import re"
      ]
    },
    {
      "cell_type": "markdown",
      "source": [
        "- Descarga de archivos desde Github."
      ],
      "metadata": {
        "id": "v1x5uMQ2JDVo"
      },
      "id": "v1x5uMQ2JDVo"
    },
    {
      "cell_type": "code",
      "execution_count": 2,
      "metadata": {
        "colab": {
          "base_uri": "https://localhost:8080/"
        },
        "id": "c1odpDuwA2PO",
        "outputId": "4aae641e-2397-4f3f-a3b7-05243a5c30e1"
      },
      "outputs": [
        {
          "output_type": "stream",
          "name": "stdout",
          "text": [
            "--2023-06-21 14:22:22--  https://raw.githubusercontent.com/JesusESD/NLPProject/main/Data/test.csv\n",
            "Resolving raw.githubusercontent.com (raw.githubusercontent.com)... 185.199.109.133, 185.199.110.133, 185.199.108.133, ...\n",
            "Connecting to raw.githubusercontent.com (raw.githubusercontent.com)|185.199.109.133|:443... connected.\n",
            "HTTP request sent, awaiting response... 200 OK\n",
            "Length: 1831783 (1.7M) [text/plain]\n",
            "Saving to: ‘test.csv’\n",
            "\n",
            "test.csv            100%[===================>]   1.75M  --.-KB/s    in 0.06s   \n",
            "\n",
            "2023-06-21 14:22:23 (31.5 MB/s) - ‘test.csv’ saved [1831783/1831783]\n",
            "\n",
            "--2023-06-21 14:22:23--  https://raw.githubusercontent.com/JesusESD/NLPProject/main/Data/train.csv\n",
            "Resolving raw.githubusercontent.com (raw.githubusercontent.com)... 185.199.111.133, 185.199.109.133, 185.199.108.133, ...\n",
            "Connecting to raw.githubusercontent.com (raw.githubusercontent.com)|185.199.111.133|:443... connected.\n",
            "HTTP request sent, awaiting response... 200 OK\n",
            "Length: 27234338 (26M) [text/plain]\n",
            "Saving to: ‘train.csv’\n",
            "\n",
            "train.csv           100%[===================>]  25.97M   124MB/s    in 0.2s    \n",
            "\n",
            "2023-06-21 14:22:23 (124 MB/s) - ‘train.csv’ saved [27234338/27234338]\n",
            "\n",
            "--2023-06-21 14:22:24--  https://raw.githubusercontent.com/JesusESD/NLPProject/main/Data/val.csv\n",
            "Resolving raw.githubusercontent.com (raw.githubusercontent.com)... 185.199.109.133, 185.199.111.133, 185.199.110.133, ...\n",
            "Connecting to raw.githubusercontent.com (raw.githubusercontent.com)|185.199.109.133|:443... connected.\n",
            "HTTP request sent, awaiting response... 200 OK\n",
            "Length: 1825073 (1.7M) [text/plain]\n",
            "Saving to: ‘val.csv’\n",
            "\n",
            "val.csv             100%[===================>]   1.74M  --.-KB/s    in 0.06s   \n",
            "\n",
            "2023-06-21 14:22:24 (27.6 MB/s) - ‘val.csv’ saved [1825073/1825073]\n",
            "\n"
          ]
        }
      ],
      "source": [
        "!wget -O test.csv   https://raw.githubusercontent.com/JesusESD/NLPProject/main/Data/test.csv\n",
        "!wget -O train.csv  https://raw.githubusercontent.com/JesusESD/NLPProject/main/Data/train.csv\n",
        "!wget -O val.csv    https://raw.githubusercontent.com/JesusESD/NLPProject/main/Data/val.csv"
      ],
      "id": "c1odpDuwA2PO"
    },
    {
      "cell_type": "markdown",
      "source": [
        "- Definición y muestra de los dataframes para entrenamiento (train-df), validación (val_df) y evaluación (test_df)."
      ],
      "metadata": {
        "id": "xYznAJbzJOqX"
      },
      "id": "xYznAJbzJOqX"
    },
    {
      "cell_type": "code",
      "execution_count": 3,
      "id": "6f850e02-db52-441f-99dd-41a7e08b594c",
      "metadata": {
        "id": "6f850e02-db52-441f-99dd-41a7e08b594c"
      },
      "outputs": [],
      "source": [
        "test_df  = pd.read_csv('test.csv')\n",
        "train_df = pd.read_csv('train.csv')\n",
        "val_df   = pd.read_csv('val.csv')"
      ]
    },
    {
      "cell_type": "code",
      "execution_count": 4,
      "id": "35f0db65-4358-4f2b-baa7-3cf6250519ee",
      "metadata": {
        "colab": {
          "base_uri": "https://localhost:8080/",
          "height": 206
        },
        "id": "35f0db65-4358-4f2b-baa7-3cf6250519ee",
        "outputId": "afdd7e16-688e-4682-f1ba-410c7f5c2a28"
      },
      "outputs": [
        {
          "output_type": "execute_result",
          "data": {
            "text/plain": [
              "   Class                                              Title  \\\n",
              "0      3  Wall St. Bears Claw Back Into the Black (Reuters)   \n",
              "1      3  Carlyle Looks Toward Commercial Aerospace (Reu...   \n",
              "2      3    Oil and Economy Cloud Stocks' Outlook (Reuters)   \n",
              "3      3  Iraq Halts Oil Exports from Main Southern Pipe...   \n",
              "4      3  Oil prices soar to all-time record, posing new...   \n",
              "\n",
              "                                         Description  \n",
              "0  Reuters - Short-sellers, Wall Street's dwindli...  \n",
              "1  Reuters - Private investment firm Carlyle Grou...  \n",
              "2  Reuters - Soaring crude prices plus worries\\ab...  \n",
              "3  Reuters - Authorities have halted oil export\\f...  \n",
              "4  AFP - Tearaway world oil prices, toppling reco...  "
            ],
            "text/html": [
              "\n",
              "  <div id=\"df-e6f92f6c-cb5f-4269-873b-81a8c83544c5\">\n",
              "    <div class=\"colab-df-container\">\n",
              "      <div>\n",
              "<style scoped>\n",
              "    .dataframe tbody tr th:only-of-type {\n",
              "        vertical-align: middle;\n",
              "    }\n",
              "\n",
              "    .dataframe tbody tr th {\n",
              "        vertical-align: top;\n",
              "    }\n",
              "\n",
              "    .dataframe thead th {\n",
              "        text-align: right;\n",
              "    }\n",
              "</style>\n",
              "<table border=\"1\" class=\"dataframe\">\n",
              "  <thead>\n",
              "    <tr style=\"text-align: right;\">\n",
              "      <th></th>\n",
              "      <th>Class</th>\n",
              "      <th>Title</th>\n",
              "      <th>Description</th>\n",
              "    </tr>\n",
              "  </thead>\n",
              "  <tbody>\n",
              "    <tr>\n",
              "      <th>0</th>\n",
              "      <td>3</td>\n",
              "      <td>Wall St. Bears Claw Back Into the Black (Reuters)</td>\n",
              "      <td>Reuters - Short-sellers, Wall Street's dwindli...</td>\n",
              "    </tr>\n",
              "    <tr>\n",
              "      <th>1</th>\n",
              "      <td>3</td>\n",
              "      <td>Carlyle Looks Toward Commercial Aerospace (Reu...</td>\n",
              "      <td>Reuters - Private investment firm Carlyle Grou...</td>\n",
              "    </tr>\n",
              "    <tr>\n",
              "      <th>2</th>\n",
              "      <td>3</td>\n",
              "      <td>Oil and Economy Cloud Stocks' Outlook (Reuters)</td>\n",
              "      <td>Reuters - Soaring crude prices plus worries\\ab...</td>\n",
              "    </tr>\n",
              "    <tr>\n",
              "      <th>3</th>\n",
              "      <td>3</td>\n",
              "      <td>Iraq Halts Oil Exports from Main Southern Pipe...</td>\n",
              "      <td>Reuters - Authorities have halted oil export\\f...</td>\n",
              "    </tr>\n",
              "    <tr>\n",
              "      <th>4</th>\n",
              "      <td>3</td>\n",
              "      <td>Oil prices soar to all-time record, posing new...</td>\n",
              "      <td>AFP - Tearaway world oil prices, toppling reco...</td>\n",
              "    </tr>\n",
              "  </tbody>\n",
              "</table>\n",
              "</div>\n",
              "      <button class=\"colab-df-convert\" onclick=\"convertToInteractive('df-e6f92f6c-cb5f-4269-873b-81a8c83544c5')\"\n",
              "              title=\"Convert this dataframe to an interactive table.\"\n",
              "              style=\"display:none;\">\n",
              "        \n",
              "  <svg xmlns=\"http://www.w3.org/2000/svg\" height=\"24px\"viewBox=\"0 0 24 24\"\n",
              "       width=\"24px\">\n",
              "    <path d=\"M0 0h24v24H0V0z\" fill=\"none\"/>\n",
              "    <path d=\"M18.56 5.44l.94 2.06.94-2.06 2.06-.94-2.06-.94-.94-2.06-.94 2.06-2.06.94zm-11 1L8.5 8.5l.94-2.06 2.06-.94-2.06-.94L8.5 2.5l-.94 2.06-2.06.94zm10 10l.94 2.06.94-2.06 2.06-.94-2.06-.94-.94-2.06-.94 2.06-2.06.94z\"/><path d=\"M17.41 7.96l-1.37-1.37c-.4-.4-.92-.59-1.43-.59-.52 0-1.04.2-1.43.59L10.3 9.45l-7.72 7.72c-.78.78-.78 2.05 0 2.83L4 21.41c.39.39.9.59 1.41.59.51 0 1.02-.2 1.41-.59l7.78-7.78 2.81-2.81c.8-.78.8-2.07 0-2.86zM5.41 20L4 18.59l7.72-7.72 1.47 1.35L5.41 20z\"/>\n",
              "  </svg>\n",
              "      </button>\n",
              "      \n",
              "  <style>\n",
              "    .colab-df-container {\n",
              "      display:flex;\n",
              "      flex-wrap:wrap;\n",
              "      gap: 12px;\n",
              "    }\n",
              "\n",
              "    .colab-df-convert {\n",
              "      background-color: #E8F0FE;\n",
              "      border: none;\n",
              "      border-radius: 50%;\n",
              "      cursor: pointer;\n",
              "      display: none;\n",
              "      fill: #1967D2;\n",
              "      height: 32px;\n",
              "      padding: 0 0 0 0;\n",
              "      width: 32px;\n",
              "    }\n",
              "\n",
              "    .colab-df-convert:hover {\n",
              "      background-color: #E2EBFA;\n",
              "      box-shadow: 0px 1px 2px rgba(60, 64, 67, 0.3), 0px 1px 3px 1px rgba(60, 64, 67, 0.15);\n",
              "      fill: #174EA6;\n",
              "    }\n",
              "\n",
              "    [theme=dark] .colab-df-convert {\n",
              "      background-color: #3B4455;\n",
              "      fill: #D2E3FC;\n",
              "    }\n",
              "\n",
              "    [theme=dark] .colab-df-convert:hover {\n",
              "      background-color: #434B5C;\n",
              "      box-shadow: 0px 1px 3px 1px rgba(0, 0, 0, 0.15);\n",
              "      filter: drop-shadow(0px 1px 2px rgba(0, 0, 0, 0.3));\n",
              "      fill: #FFFFFF;\n",
              "    }\n",
              "  </style>\n",
              "\n",
              "      <script>\n",
              "        const buttonEl =\n",
              "          document.querySelector('#df-e6f92f6c-cb5f-4269-873b-81a8c83544c5 button.colab-df-convert');\n",
              "        buttonEl.style.display =\n",
              "          google.colab.kernel.accessAllowed ? 'block' : 'none';\n",
              "\n",
              "        async function convertToInteractive(key) {\n",
              "          const element = document.querySelector('#df-e6f92f6c-cb5f-4269-873b-81a8c83544c5');\n",
              "          const dataTable =\n",
              "            await google.colab.kernel.invokeFunction('convertToInteractive',\n",
              "                                                     [key], {});\n",
              "          if (!dataTable) return;\n",
              "\n",
              "          const docLinkHtml = 'Like what you see? Visit the ' +\n",
              "            '<a target=\"_blank\" href=https://colab.research.google.com/notebooks/data_table.ipynb>data table notebook</a>'\n",
              "            + ' to learn more about interactive tables.';\n",
              "          element.innerHTML = '';\n",
              "          dataTable['output_type'] = 'display_data';\n",
              "          await google.colab.output.renderOutput(dataTable, element);\n",
              "          const docLink = document.createElement('div');\n",
              "          docLink.innerHTML = docLinkHtml;\n",
              "          element.appendChild(docLink);\n",
              "        }\n",
              "      </script>\n",
              "    </div>\n",
              "  </div>\n",
              "  "
            ]
          },
          "metadata": {},
          "execution_count": 4
        }
      ],
      "source": [
        "train_df.head()"
      ]
    },
    {
      "cell_type": "code",
      "source": [
        "val_df.head()"
      ],
      "metadata": {
        "colab": {
          "base_uri": "https://localhost:8080/",
          "height": 206
        },
        "id": "oMDaBlG0lkOm",
        "outputId": "f9719a9e-ffe8-448e-92b6-d375c97fdfd1"
      },
      "id": "oMDaBlG0lkOm",
      "execution_count": 5,
      "outputs": [
        {
          "output_type": "execute_result",
          "data": {
            "text/plain": [
              "   Class                                              Title  \\\n",
              "0      3  Permira links with Apollo to join Toys  #39;R ...   \n",
              "1      3                3Com to buy TippingPoint for \\$430M   \n",
              "2      3            Icahn Files Suit vs. Mylan Laboratories   \n",
              "3      3  Fiat dismisses GM threat that car unit might g...   \n",
              "4      4  NASA: Mondays The Best Time To See Geminid Met...   \n",
              "\n",
              "                                         Description  \n",
              "0  Permira, the private equity firm that owns New...  \n",
              "1  DECEMBER 13, 2004 (IDG NEWS SERVICE) - 3Com Co...  \n",
              "2  Billionaire investor Carl Icahn filed a federa...  \n",
              "3  Fiat threw down the gauntlet to General Motors...  \n",
              "4  Stargazers can catch a spectacular sight if th...  "
            ],
            "text/html": [
              "\n",
              "  <div id=\"df-6c200f95-6212-4eb7-9707-df0b273894fc\">\n",
              "    <div class=\"colab-df-container\">\n",
              "      <div>\n",
              "<style scoped>\n",
              "    .dataframe tbody tr th:only-of-type {\n",
              "        vertical-align: middle;\n",
              "    }\n",
              "\n",
              "    .dataframe tbody tr th {\n",
              "        vertical-align: top;\n",
              "    }\n",
              "\n",
              "    .dataframe thead th {\n",
              "        text-align: right;\n",
              "    }\n",
              "</style>\n",
              "<table border=\"1\" class=\"dataframe\">\n",
              "  <thead>\n",
              "    <tr style=\"text-align: right;\">\n",
              "      <th></th>\n",
              "      <th>Class</th>\n",
              "      <th>Title</th>\n",
              "      <th>Description</th>\n",
              "    </tr>\n",
              "  </thead>\n",
              "  <tbody>\n",
              "    <tr>\n",
              "      <th>0</th>\n",
              "      <td>3</td>\n",
              "      <td>Permira links with Apollo to join Toys  #39;R ...</td>\n",
              "      <td>Permira, the private equity firm that owns New...</td>\n",
              "    </tr>\n",
              "    <tr>\n",
              "      <th>1</th>\n",
              "      <td>3</td>\n",
              "      <td>3Com to buy TippingPoint for \\$430M</td>\n",
              "      <td>DECEMBER 13, 2004 (IDG NEWS SERVICE) - 3Com Co...</td>\n",
              "    </tr>\n",
              "    <tr>\n",
              "      <th>2</th>\n",
              "      <td>3</td>\n",
              "      <td>Icahn Files Suit vs. Mylan Laboratories</td>\n",
              "      <td>Billionaire investor Carl Icahn filed a federa...</td>\n",
              "    </tr>\n",
              "    <tr>\n",
              "      <th>3</th>\n",
              "      <td>3</td>\n",
              "      <td>Fiat dismisses GM threat that car unit might g...</td>\n",
              "      <td>Fiat threw down the gauntlet to General Motors...</td>\n",
              "    </tr>\n",
              "    <tr>\n",
              "      <th>4</th>\n",
              "      <td>4</td>\n",
              "      <td>NASA: Mondays The Best Time To See Geminid Met...</td>\n",
              "      <td>Stargazers can catch a spectacular sight if th...</td>\n",
              "    </tr>\n",
              "  </tbody>\n",
              "</table>\n",
              "</div>\n",
              "      <button class=\"colab-df-convert\" onclick=\"convertToInteractive('df-6c200f95-6212-4eb7-9707-df0b273894fc')\"\n",
              "              title=\"Convert this dataframe to an interactive table.\"\n",
              "              style=\"display:none;\">\n",
              "        \n",
              "  <svg xmlns=\"http://www.w3.org/2000/svg\" height=\"24px\"viewBox=\"0 0 24 24\"\n",
              "       width=\"24px\">\n",
              "    <path d=\"M0 0h24v24H0V0z\" fill=\"none\"/>\n",
              "    <path d=\"M18.56 5.44l.94 2.06.94-2.06 2.06-.94-2.06-.94-.94-2.06-.94 2.06-2.06.94zm-11 1L8.5 8.5l.94-2.06 2.06-.94-2.06-.94L8.5 2.5l-.94 2.06-2.06.94zm10 10l.94 2.06.94-2.06 2.06-.94-2.06-.94-.94-2.06-.94 2.06-2.06.94z\"/><path d=\"M17.41 7.96l-1.37-1.37c-.4-.4-.92-.59-1.43-.59-.52 0-1.04.2-1.43.59L10.3 9.45l-7.72 7.72c-.78.78-.78 2.05 0 2.83L4 21.41c.39.39.9.59 1.41.59.51 0 1.02-.2 1.41-.59l7.78-7.78 2.81-2.81c.8-.78.8-2.07 0-2.86zM5.41 20L4 18.59l7.72-7.72 1.47 1.35L5.41 20z\"/>\n",
              "  </svg>\n",
              "      </button>\n",
              "      \n",
              "  <style>\n",
              "    .colab-df-container {\n",
              "      display:flex;\n",
              "      flex-wrap:wrap;\n",
              "      gap: 12px;\n",
              "    }\n",
              "\n",
              "    .colab-df-convert {\n",
              "      background-color: #E8F0FE;\n",
              "      border: none;\n",
              "      border-radius: 50%;\n",
              "      cursor: pointer;\n",
              "      display: none;\n",
              "      fill: #1967D2;\n",
              "      height: 32px;\n",
              "      padding: 0 0 0 0;\n",
              "      width: 32px;\n",
              "    }\n",
              "\n",
              "    .colab-df-convert:hover {\n",
              "      background-color: #E2EBFA;\n",
              "      box-shadow: 0px 1px 2px rgba(60, 64, 67, 0.3), 0px 1px 3px 1px rgba(60, 64, 67, 0.15);\n",
              "      fill: #174EA6;\n",
              "    }\n",
              "\n",
              "    [theme=dark] .colab-df-convert {\n",
              "      background-color: #3B4455;\n",
              "      fill: #D2E3FC;\n",
              "    }\n",
              "\n",
              "    [theme=dark] .colab-df-convert:hover {\n",
              "      background-color: #434B5C;\n",
              "      box-shadow: 0px 1px 3px 1px rgba(0, 0, 0, 0.15);\n",
              "      filter: drop-shadow(0px 1px 2px rgba(0, 0, 0, 0.3));\n",
              "      fill: #FFFFFF;\n",
              "    }\n",
              "  </style>\n",
              "\n",
              "      <script>\n",
              "        const buttonEl =\n",
              "          document.querySelector('#df-6c200f95-6212-4eb7-9707-df0b273894fc button.colab-df-convert');\n",
              "        buttonEl.style.display =\n",
              "          google.colab.kernel.accessAllowed ? 'block' : 'none';\n",
              "\n",
              "        async function convertToInteractive(key) {\n",
              "          const element = document.querySelector('#df-6c200f95-6212-4eb7-9707-df0b273894fc');\n",
              "          const dataTable =\n",
              "            await google.colab.kernel.invokeFunction('convertToInteractive',\n",
              "                                                     [key], {});\n",
              "          if (!dataTable) return;\n",
              "\n",
              "          const docLinkHtml = 'Like what you see? Visit the ' +\n",
              "            '<a target=\"_blank\" href=https://colab.research.google.com/notebooks/data_table.ipynb>data table notebook</a>'\n",
              "            + ' to learn more about interactive tables.';\n",
              "          element.innerHTML = '';\n",
              "          dataTable['output_type'] = 'display_data';\n",
              "          await google.colab.output.renderOutput(dataTable, element);\n",
              "          const docLink = document.createElement('div');\n",
              "          docLink.innerHTML = docLinkHtml;\n",
              "          element.appendChild(docLink);\n",
              "        }\n",
              "      </script>\n",
              "    </div>\n",
              "  </div>\n",
              "  "
            ]
          },
          "metadata": {},
          "execution_count": 5
        }
      ]
    },
    {
      "cell_type": "code",
      "source": [
        "test_df.head()"
      ],
      "metadata": {
        "colab": {
          "base_uri": "https://localhost:8080/",
          "height": 206
        },
        "id": "6x_yrtm0lf51",
        "outputId": "08674719-3b9f-4d7a-e85a-ccb761735594"
      },
      "id": "6x_yrtm0lf51",
      "execution_count": 6,
      "outputs": [
        {
          "output_type": "execute_result",
          "data": {
            "text/plain": [
              "   Class                                              Title  \\\n",
              "0      3                  Fears for T N pension after talks   \n",
              "1      4  The Race is On: Second Private Team Sets Launc...   \n",
              "2      4      Ky. Company Wins Grant to Study Peptides (AP)   \n",
              "3      4      Prediction Unit Helps Forecast Wildfires (AP)   \n",
              "4      4        Calif. Aims to Limit Farm-Related Smog (AP)   \n",
              "\n",
              "                                         Description  \n",
              "0  Unions representing workers at Turner   Newall...  \n",
              "1  SPACE.com - TORONTO, Canada -- A second\\team o...  \n",
              "2  AP - A company founded by a chemistry research...  \n",
              "3  AP - It's barely dawn when Mike Fitzpatrick st...  \n",
              "4  AP - Southern California's smog-fighting agenc...  "
            ],
            "text/html": [
              "\n",
              "  <div id=\"df-ba9deb59-e359-47b4-be2f-b5e84d11d12e\">\n",
              "    <div class=\"colab-df-container\">\n",
              "      <div>\n",
              "<style scoped>\n",
              "    .dataframe tbody tr th:only-of-type {\n",
              "        vertical-align: middle;\n",
              "    }\n",
              "\n",
              "    .dataframe tbody tr th {\n",
              "        vertical-align: top;\n",
              "    }\n",
              "\n",
              "    .dataframe thead th {\n",
              "        text-align: right;\n",
              "    }\n",
              "</style>\n",
              "<table border=\"1\" class=\"dataframe\">\n",
              "  <thead>\n",
              "    <tr style=\"text-align: right;\">\n",
              "      <th></th>\n",
              "      <th>Class</th>\n",
              "      <th>Title</th>\n",
              "      <th>Description</th>\n",
              "    </tr>\n",
              "  </thead>\n",
              "  <tbody>\n",
              "    <tr>\n",
              "      <th>0</th>\n",
              "      <td>3</td>\n",
              "      <td>Fears for T N pension after talks</td>\n",
              "      <td>Unions representing workers at Turner   Newall...</td>\n",
              "    </tr>\n",
              "    <tr>\n",
              "      <th>1</th>\n",
              "      <td>4</td>\n",
              "      <td>The Race is On: Second Private Team Sets Launc...</td>\n",
              "      <td>SPACE.com - TORONTO, Canada -- A second\\team o...</td>\n",
              "    </tr>\n",
              "    <tr>\n",
              "      <th>2</th>\n",
              "      <td>4</td>\n",
              "      <td>Ky. Company Wins Grant to Study Peptides (AP)</td>\n",
              "      <td>AP - A company founded by a chemistry research...</td>\n",
              "    </tr>\n",
              "    <tr>\n",
              "      <th>3</th>\n",
              "      <td>4</td>\n",
              "      <td>Prediction Unit Helps Forecast Wildfires (AP)</td>\n",
              "      <td>AP - It's barely dawn when Mike Fitzpatrick st...</td>\n",
              "    </tr>\n",
              "    <tr>\n",
              "      <th>4</th>\n",
              "      <td>4</td>\n",
              "      <td>Calif. Aims to Limit Farm-Related Smog (AP)</td>\n",
              "      <td>AP - Southern California's smog-fighting agenc...</td>\n",
              "    </tr>\n",
              "  </tbody>\n",
              "</table>\n",
              "</div>\n",
              "      <button class=\"colab-df-convert\" onclick=\"convertToInteractive('df-ba9deb59-e359-47b4-be2f-b5e84d11d12e')\"\n",
              "              title=\"Convert this dataframe to an interactive table.\"\n",
              "              style=\"display:none;\">\n",
              "        \n",
              "  <svg xmlns=\"http://www.w3.org/2000/svg\" height=\"24px\"viewBox=\"0 0 24 24\"\n",
              "       width=\"24px\">\n",
              "    <path d=\"M0 0h24v24H0V0z\" fill=\"none\"/>\n",
              "    <path d=\"M18.56 5.44l.94 2.06.94-2.06 2.06-.94-2.06-.94-.94-2.06-.94 2.06-2.06.94zm-11 1L8.5 8.5l.94-2.06 2.06-.94-2.06-.94L8.5 2.5l-.94 2.06-2.06.94zm10 10l.94 2.06.94-2.06 2.06-.94-2.06-.94-.94-2.06-.94 2.06-2.06.94z\"/><path d=\"M17.41 7.96l-1.37-1.37c-.4-.4-.92-.59-1.43-.59-.52 0-1.04.2-1.43.59L10.3 9.45l-7.72 7.72c-.78.78-.78 2.05 0 2.83L4 21.41c.39.39.9.59 1.41.59.51 0 1.02-.2 1.41-.59l7.78-7.78 2.81-2.81c.8-.78.8-2.07 0-2.86zM5.41 20L4 18.59l7.72-7.72 1.47 1.35L5.41 20z\"/>\n",
              "  </svg>\n",
              "      </button>\n",
              "      \n",
              "  <style>\n",
              "    .colab-df-container {\n",
              "      display:flex;\n",
              "      flex-wrap:wrap;\n",
              "      gap: 12px;\n",
              "    }\n",
              "\n",
              "    .colab-df-convert {\n",
              "      background-color: #E8F0FE;\n",
              "      border: none;\n",
              "      border-radius: 50%;\n",
              "      cursor: pointer;\n",
              "      display: none;\n",
              "      fill: #1967D2;\n",
              "      height: 32px;\n",
              "      padding: 0 0 0 0;\n",
              "      width: 32px;\n",
              "    }\n",
              "\n",
              "    .colab-df-convert:hover {\n",
              "      background-color: #E2EBFA;\n",
              "      box-shadow: 0px 1px 2px rgba(60, 64, 67, 0.3), 0px 1px 3px 1px rgba(60, 64, 67, 0.15);\n",
              "      fill: #174EA6;\n",
              "    }\n",
              "\n",
              "    [theme=dark] .colab-df-convert {\n",
              "      background-color: #3B4455;\n",
              "      fill: #D2E3FC;\n",
              "    }\n",
              "\n",
              "    [theme=dark] .colab-df-convert:hover {\n",
              "      background-color: #434B5C;\n",
              "      box-shadow: 0px 1px 3px 1px rgba(0, 0, 0, 0.15);\n",
              "      filter: drop-shadow(0px 1px 2px rgba(0, 0, 0, 0.3));\n",
              "      fill: #FFFFFF;\n",
              "    }\n",
              "  </style>\n",
              "\n",
              "      <script>\n",
              "        const buttonEl =\n",
              "          document.querySelector('#df-ba9deb59-e359-47b4-be2f-b5e84d11d12e button.colab-df-convert');\n",
              "        buttonEl.style.display =\n",
              "          google.colab.kernel.accessAllowed ? 'block' : 'none';\n",
              "\n",
              "        async function convertToInteractive(key) {\n",
              "          const element = document.querySelector('#df-ba9deb59-e359-47b4-be2f-b5e84d11d12e');\n",
              "          const dataTable =\n",
              "            await google.colab.kernel.invokeFunction('convertToInteractive',\n",
              "                                                     [key], {});\n",
              "          if (!dataTable) return;\n",
              "\n",
              "          const docLinkHtml = 'Like what you see? Visit the ' +\n",
              "            '<a target=\"_blank\" href=https://colab.research.google.com/notebooks/data_table.ipynb>data table notebook</a>'\n",
              "            + ' to learn more about interactive tables.';\n",
              "          element.innerHTML = '';\n",
              "          dataTable['output_type'] = 'display_data';\n",
              "          await google.colab.output.renderOutput(dataTable, element);\n",
              "          const docLink = document.createElement('div');\n",
              "          docLink.innerHTML = docLinkHtml;\n",
              "          element.appendChild(docLink);\n",
              "        }\n",
              "      </script>\n",
              "    </div>\n",
              "  </div>\n",
              "  "
            ]
          },
          "metadata": {},
          "execution_count": 6
        }
      ]
    },
    {
      "cell_type": "markdown",
      "id": "6caf7e1b-c993-4d9a-9b32-c6475f6b688b",
      "metadata": {
        "id": "6caf7e1b-c993-4d9a-9b32-c6475f6b688b"
      },
      "source": [
        "- Elimina registros duplicados según el campo *Description*."
      ]
    },
    {
      "cell_type": "code",
      "execution_count": 7,
      "id": "81e6483d-e3e6-4902-aeea-f5b2c00a77a5",
      "metadata": {
        "id": "81e6483d-e3e6-4902-aeea-f5b2c00a77a5"
      },
      "outputs": [],
      "source": [
        "train_df = train_df.drop_duplicates(subset=['Description'])\n",
        "val_df = val_df.drop_duplicates(subset=['Description'])\n",
        "test_df = test_df.drop_duplicates(subset=['Description'])"
      ]
    },
    {
      "cell_type": "markdown",
      "source": [
        "- Ordenamiento ascendente de registros según el campo *Description*."
      ],
      "metadata": {
        "id": "xMfjEW2QaG4p"
      },
      "id": "xMfjEW2QaG4p"
    },
    {
      "cell_type": "code",
      "execution_count": 8,
      "id": "23023c67-9ac0-4097-8e91-6b6f417261cb",
      "metadata": {
        "colab": {
          "base_uri": "https://localhost:8080/",
          "height": 424
        },
        "id": "23023c67-9ac0-4097-8e91-6b6f417261cb",
        "outputId": "c6a511a1-6108-4d6f-9223-e46df920f1fd"
      },
      "outputs": [
        {
          "output_type": "execute_result",
          "data": {
            "text/plain": [
              "        Class                                              Title  \\\n",
              "38968       2                                        The Rundown   \n",
              "83160       1                          WorldCom Investors Settle   \n",
              "54379       3            Johnson Controls Sees Revenue, Earns Up   \n",
              "58997       1                   Japan's Wide Role in Afghanistan   \n",
              "104138      4  Chip Sales Rise 1.5 Pct in October from September   \n",
              "...       ...                                                ...   \n",
              "17055       1       Malaysia court overturns Anwar sodomy ruling   \n",
              "12762       3  Drug to Help Avert Blindness Moves Closer to A...   \n",
              "19295       2   No. 25 Purdue Opens With a 51-0 Rout of Syracuse   \n",
              "2979        2          American Cyclist Hamilton Wins Time Trial   \n",
              "14372       3      SUSAN TOMPOR: Change the law, feel the bounce   \n",
              "\n",
              "                                              Description  \n",
              "38968       1 Southern California at Stanford  &lt;em&...  \n",
              "83160      A federal judge approved a \\$2.575 billion ...  \n",
              "54379      CHICAGO (Reuters) - Auto parts supplier Joh...  \n",
              "58997      Japan's Foreign Ministry spokesman,    Hats...  \n",
              "104138     NEW YORK (Reuters) - Worldwide semiconducto...  \n",
              "...                                                   ...  \n",
              "17055   years in jail, overturning his conviction for ...  \n",
              "12762   yetech Pharmaceuticals #39; drug to treat the ...  \n",
              "19295   yle Orton passed for 287 yards and a career-hi...  \n",
              "2979    yler Hamilton and Bobby Julich showed that the...  \n",
              "14372   you know, writing a check a day or two before ...  \n",
              "\n",
              "[111173 rows x 3 columns]"
            ],
            "text/html": [
              "\n",
              "  <div id=\"df-20ccfd04-c453-47f8-ad64-3e0467e60d0b\">\n",
              "    <div class=\"colab-df-container\">\n",
              "      <div>\n",
              "<style scoped>\n",
              "    .dataframe tbody tr th:only-of-type {\n",
              "        vertical-align: middle;\n",
              "    }\n",
              "\n",
              "    .dataframe tbody tr th {\n",
              "        vertical-align: top;\n",
              "    }\n",
              "\n",
              "    .dataframe thead th {\n",
              "        text-align: right;\n",
              "    }\n",
              "</style>\n",
              "<table border=\"1\" class=\"dataframe\">\n",
              "  <thead>\n",
              "    <tr style=\"text-align: right;\">\n",
              "      <th></th>\n",
              "      <th>Class</th>\n",
              "      <th>Title</th>\n",
              "      <th>Description</th>\n",
              "    </tr>\n",
              "  </thead>\n",
              "  <tbody>\n",
              "    <tr>\n",
              "      <th>38968</th>\n",
              "      <td>2</td>\n",
              "      <td>The Rundown</td>\n",
              "      <td>1 Southern California at Stanford  &amp;lt;em&amp;...</td>\n",
              "    </tr>\n",
              "    <tr>\n",
              "      <th>83160</th>\n",
              "      <td>1</td>\n",
              "      <td>WorldCom Investors Settle</td>\n",
              "      <td>A federal judge approved a \\$2.575 billion ...</td>\n",
              "    </tr>\n",
              "    <tr>\n",
              "      <th>54379</th>\n",
              "      <td>3</td>\n",
              "      <td>Johnson Controls Sees Revenue, Earns Up</td>\n",
              "      <td>CHICAGO (Reuters) - Auto parts supplier Joh...</td>\n",
              "    </tr>\n",
              "    <tr>\n",
              "      <th>58997</th>\n",
              "      <td>1</td>\n",
              "      <td>Japan's Wide Role in Afghanistan</td>\n",
              "      <td>Japan's Foreign Ministry spokesman,    Hats...</td>\n",
              "    </tr>\n",
              "    <tr>\n",
              "      <th>104138</th>\n",
              "      <td>4</td>\n",
              "      <td>Chip Sales Rise 1.5 Pct in October from September</td>\n",
              "      <td>NEW YORK (Reuters) - Worldwide semiconducto...</td>\n",
              "    </tr>\n",
              "    <tr>\n",
              "      <th>...</th>\n",
              "      <td>...</td>\n",
              "      <td>...</td>\n",
              "      <td>...</td>\n",
              "    </tr>\n",
              "    <tr>\n",
              "      <th>17055</th>\n",
              "      <td>1</td>\n",
              "      <td>Malaysia court overturns Anwar sodomy ruling</td>\n",
              "      <td>years in jail, overturning his conviction for ...</td>\n",
              "    </tr>\n",
              "    <tr>\n",
              "      <th>12762</th>\n",
              "      <td>3</td>\n",
              "      <td>Drug to Help Avert Blindness Moves Closer to A...</td>\n",
              "      <td>yetech Pharmaceuticals #39; drug to treat the ...</td>\n",
              "    </tr>\n",
              "    <tr>\n",
              "      <th>19295</th>\n",
              "      <td>2</td>\n",
              "      <td>No. 25 Purdue Opens With a 51-0 Rout of Syracuse</td>\n",
              "      <td>yle Orton passed for 287 yards and a career-hi...</td>\n",
              "    </tr>\n",
              "    <tr>\n",
              "      <th>2979</th>\n",
              "      <td>2</td>\n",
              "      <td>American Cyclist Hamilton Wins Time Trial</td>\n",
              "      <td>yler Hamilton and Bobby Julich showed that the...</td>\n",
              "    </tr>\n",
              "    <tr>\n",
              "      <th>14372</th>\n",
              "      <td>3</td>\n",
              "      <td>SUSAN TOMPOR: Change the law, feel the bounce</td>\n",
              "      <td>you know, writing a check a day or two before ...</td>\n",
              "    </tr>\n",
              "  </tbody>\n",
              "</table>\n",
              "<p>111173 rows × 3 columns</p>\n",
              "</div>\n",
              "      <button class=\"colab-df-convert\" onclick=\"convertToInteractive('df-20ccfd04-c453-47f8-ad64-3e0467e60d0b')\"\n",
              "              title=\"Convert this dataframe to an interactive table.\"\n",
              "              style=\"display:none;\">\n",
              "        \n",
              "  <svg xmlns=\"http://www.w3.org/2000/svg\" height=\"24px\"viewBox=\"0 0 24 24\"\n",
              "       width=\"24px\">\n",
              "    <path d=\"M0 0h24v24H0V0z\" fill=\"none\"/>\n",
              "    <path d=\"M18.56 5.44l.94 2.06.94-2.06 2.06-.94-2.06-.94-.94-2.06-.94 2.06-2.06.94zm-11 1L8.5 8.5l.94-2.06 2.06-.94-2.06-.94L8.5 2.5l-.94 2.06-2.06.94zm10 10l.94 2.06.94-2.06 2.06-.94-2.06-.94-.94-2.06-.94 2.06-2.06.94z\"/><path d=\"M17.41 7.96l-1.37-1.37c-.4-.4-.92-.59-1.43-.59-.52 0-1.04.2-1.43.59L10.3 9.45l-7.72 7.72c-.78.78-.78 2.05 0 2.83L4 21.41c.39.39.9.59 1.41.59.51 0 1.02-.2 1.41-.59l7.78-7.78 2.81-2.81c.8-.78.8-2.07 0-2.86zM5.41 20L4 18.59l7.72-7.72 1.47 1.35L5.41 20z\"/>\n",
              "  </svg>\n",
              "      </button>\n",
              "      \n",
              "  <style>\n",
              "    .colab-df-container {\n",
              "      display:flex;\n",
              "      flex-wrap:wrap;\n",
              "      gap: 12px;\n",
              "    }\n",
              "\n",
              "    .colab-df-convert {\n",
              "      background-color: #E8F0FE;\n",
              "      border: none;\n",
              "      border-radius: 50%;\n",
              "      cursor: pointer;\n",
              "      display: none;\n",
              "      fill: #1967D2;\n",
              "      height: 32px;\n",
              "      padding: 0 0 0 0;\n",
              "      width: 32px;\n",
              "    }\n",
              "\n",
              "    .colab-df-convert:hover {\n",
              "      background-color: #E2EBFA;\n",
              "      box-shadow: 0px 1px 2px rgba(60, 64, 67, 0.3), 0px 1px 3px 1px rgba(60, 64, 67, 0.15);\n",
              "      fill: #174EA6;\n",
              "    }\n",
              "\n",
              "    [theme=dark] .colab-df-convert {\n",
              "      background-color: #3B4455;\n",
              "      fill: #D2E3FC;\n",
              "    }\n",
              "\n",
              "    [theme=dark] .colab-df-convert:hover {\n",
              "      background-color: #434B5C;\n",
              "      box-shadow: 0px 1px 3px 1px rgba(0, 0, 0, 0.15);\n",
              "      filter: drop-shadow(0px 1px 2px rgba(0, 0, 0, 0.3));\n",
              "      fill: #FFFFFF;\n",
              "    }\n",
              "  </style>\n",
              "\n",
              "      <script>\n",
              "        const buttonEl =\n",
              "          document.querySelector('#df-20ccfd04-c453-47f8-ad64-3e0467e60d0b button.colab-df-convert');\n",
              "        buttonEl.style.display =\n",
              "          google.colab.kernel.accessAllowed ? 'block' : 'none';\n",
              "\n",
              "        async function convertToInteractive(key) {\n",
              "          const element = document.querySelector('#df-20ccfd04-c453-47f8-ad64-3e0467e60d0b');\n",
              "          const dataTable =\n",
              "            await google.colab.kernel.invokeFunction('convertToInteractive',\n",
              "                                                     [key], {});\n",
              "          if (!dataTable) return;\n",
              "\n",
              "          const docLinkHtml = 'Like what you see? Visit the ' +\n",
              "            '<a target=\"_blank\" href=https://colab.research.google.com/notebooks/data_table.ipynb>data table notebook</a>'\n",
              "            + ' to learn more about interactive tables.';\n",
              "          element.innerHTML = '';\n",
              "          dataTable['output_type'] = 'display_data';\n",
              "          await google.colab.output.renderOutput(dataTable, element);\n",
              "          const docLink = document.createElement('div');\n",
              "          docLink.innerHTML = docLinkHtml;\n",
              "          element.appendChild(docLink);\n",
              "        }\n",
              "      </script>\n",
              "    </div>\n",
              "  </div>\n",
              "  "
            ]
          },
          "metadata": {},
          "execution_count": 8
        }
      ],
      "source": [
        "train_df.sort_values(by='Description', ascending=True, inplace=False)"
      ]
    },
    {
      "cell_type": "code",
      "source": [
        "val_df.sort_values(by='Description', ascending=True, inplace=False)"
      ],
      "metadata": {
        "colab": {
          "base_uri": "https://localhost:8080/",
          "height": 424
        },
        "id": "UglPjMq3m2IV",
        "outputId": "195e94a9-f039-4be1-ff0c-3380535e2bc7"
      },
      "id": "UglPjMq3m2IV",
      "execution_count": 9,
      "outputs": [
        {
          "output_type": "execute_result",
          "data": {
            "text/plain": [
              "      Class                                              Title  \\\n",
              "6240      3                      An Optimistic Hiring Forecast   \n",
              "2100      3                                LATEST FUTURES NEWS   \n",
              "5378      1  Dangers on the Ground in Iraq Lead to Increase...   \n",
              "2543      4            A Push to Restrict Sales of Video Games   \n",
              "1394      1   Turkish Engineer, 2 Aides Missing in Afghanistan   \n",
              "...     ...                                                ...   \n",
              "322       4  Sprint's Planned Nextel Deal Builds on Wireles...   \n",
              "1126      3       For Sprint and Nextel, the Struggle Is Ahead   \n",
              "4659      3                  Consumer prices in US edge higher   \n",
              "4374      4                     Zafi.D Infects 1 in 10 E-mails   \n",
              "3608      1                         PM sets up Blunkett return   \n",
              "\n",
              "                                            Description  \n",
              "6240     Chief executives in the Washington-Baltimor...  \n",
              "2100    2004-12-15 11:01:48 Oil - Brent higher on US...  \n",
              "5378    AL UDEID AIR BASE, Qatar, Dec. 11 -- In an e...  \n",
              "2543    CHICAGO. Dec. 15 -- Decrying violence in fas...  \n",
              "1394    KABUL, Afghanistan, Dec. 14 -- A Turkish eng...  \n",
              "...                                                 ...  \n",
              "322   washingtonpost.com - When Gary D. Forsee took ...  \n",
              "1126  which could come as early as today - they will...  \n",
              "4659  which jumped steeply the previous month - incr...  \n",
              "4374  which spreads through e-mail that appears to c...  \n",
              "3608  who quit as Home Secretary on Wednesday evenin...  \n",
              "\n",
              "[7554 rows x 3 columns]"
            ],
            "text/html": [
              "\n",
              "  <div id=\"df-b3529154-a230-4384-8791-aadb0f56ee6a\">\n",
              "    <div class=\"colab-df-container\">\n",
              "      <div>\n",
              "<style scoped>\n",
              "    .dataframe tbody tr th:only-of-type {\n",
              "        vertical-align: middle;\n",
              "    }\n",
              "\n",
              "    .dataframe tbody tr th {\n",
              "        vertical-align: top;\n",
              "    }\n",
              "\n",
              "    .dataframe thead th {\n",
              "        text-align: right;\n",
              "    }\n",
              "</style>\n",
              "<table border=\"1\" class=\"dataframe\">\n",
              "  <thead>\n",
              "    <tr style=\"text-align: right;\">\n",
              "      <th></th>\n",
              "      <th>Class</th>\n",
              "      <th>Title</th>\n",
              "      <th>Description</th>\n",
              "    </tr>\n",
              "  </thead>\n",
              "  <tbody>\n",
              "    <tr>\n",
              "      <th>6240</th>\n",
              "      <td>3</td>\n",
              "      <td>An Optimistic Hiring Forecast</td>\n",
              "      <td>Chief executives in the Washington-Baltimor...</td>\n",
              "    </tr>\n",
              "    <tr>\n",
              "      <th>2100</th>\n",
              "      <td>3</td>\n",
              "      <td>LATEST FUTURES NEWS</td>\n",
              "      <td>2004-12-15 11:01:48 Oil - Brent higher on US...</td>\n",
              "    </tr>\n",
              "    <tr>\n",
              "      <th>5378</th>\n",
              "      <td>1</td>\n",
              "      <td>Dangers on the Ground in Iraq Lead to Increase...</td>\n",
              "      <td>AL UDEID AIR BASE, Qatar, Dec. 11 -- In an e...</td>\n",
              "    </tr>\n",
              "    <tr>\n",
              "      <th>2543</th>\n",
              "      <td>4</td>\n",
              "      <td>A Push to Restrict Sales of Video Games</td>\n",
              "      <td>CHICAGO. Dec. 15 -- Decrying violence in fas...</td>\n",
              "    </tr>\n",
              "    <tr>\n",
              "      <th>1394</th>\n",
              "      <td>1</td>\n",
              "      <td>Turkish Engineer, 2 Aides Missing in Afghanistan</td>\n",
              "      <td>KABUL, Afghanistan, Dec. 14 -- A Turkish eng...</td>\n",
              "    </tr>\n",
              "    <tr>\n",
              "      <th>...</th>\n",
              "      <td>...</td>\n",
              "      <td>...</td>\n",
              "      <td>...</td>\n",
              "    </tr>\n",
              "    <tr>\n",
              "      <th>322</th>\n",
              "      <td>4</td>\n",
              "      <td>Sprint's Planned Nextel Deal Builds on Wireles...</td>\n",
              "      <td>washingtonpost.com - When Gary D. Forsee took ...</td>\n",
              "    </tr>\n",
              "    <tr>\n",
              "      <th>1126</th>\n",
              "      <td>3</td>\n",
              "      <td>For Sprint and Nextel, the Struggle Is Ahead</td>\n",
              "      <td>which could come as early as today - they will...</td>\n",
              "    </tr>\n",
              "    <tr>\n",
              "      <th>4659</th>\n",
              "      <td>3</td>\n",
              "      <td>Consumer prices in US edge higher</td>\n",
              "      <td>which jumped steeply the previous month - incr...</td>\n",
              "    </tr>\n",
              "    <tr>\n",
              "      <th>4374</th>\n",
              "      <td>4</td>\n",
              "      <td>Zafi.D Infects 1 in 10 E-mails</td>\n",
              "      <td>which spreads through e-mail that appears to c...</td>\n",
              "    </tr>\n",
              "    <tr>\n",
              "      <th>3608</th>\n",
              "      <td>1</td>\n",
              "      <td>PM sets up Blunkett return</td>\n",
              "      <td>who quit as Home Secretary on Wednesday evenin...</td>\n",
              "    </tr>\n",
              "  </tbody>\n",
              "</table>\n",
              "<p>7554 rows × 3 columns</p>\n",
              "</div>\n",
              "      <button class=\"colab-df-convert\" onclick=\"convertToInteractive('df-b3529154-a230-4384-8791-aadb0f56ee6a')\"\n",
              "              title=\"Convert this dataframe to an interactive table.\"\n",
              "              style=\"display:none;\">\n",
              "        \n",
              "  <svg xmlns=\"http://www.w3.org/2000/svg\" height=\"24px\"viewBox=\"0 0 24 24\"\n",
              "       width=\"24px\">\n",
              "    <path d=\"M0 0h24v24H0V0z\" fill=\"none\"/>\n",
              "    <path d=\"M18.56 5.44l.94 2.06.94-2.06 2.06-.94-2.06-.94-.94-2.06-.94 2.06-2.06.94zm-11 1L8.5 8.5l.94-2.06 2.06-.94-2.06-.94L8.5 2.5l-.94 2.06-2.06.94zm10 10l.94 2.06.94-2.06 2.06-.94-2.06-.94-.94-2.06-.94 2.06-2.06.94z\"/><path d=\"M17.41 7.96l-1.37-1.37c-.4-.4-.92-.59-1.43-.59-.52 0-1.04.2-1.43.59L10.3 9.45l-7.72 7.72c-.78.78-.78 2.05 0 2.83L4 21.41c.39.39.9.59 1.41.59.51 0 1.02-.2 1.41-.59l7.78-7.78 2.81-2.81c.8-.78.8-2.07 0-2.86zM5.41 20L4 18.59l7.72-7.72 1.47 1.35L5.41 20z\"/>\n",
              "  </svg>\n",
              "      </button>\n",
              "      \n",
              "  <style>\n",
              "    .colab-df-container {\n",
              "      display:flex;\n",
              "      flex-wrap:wrap;\n",
              "      gap: 12px;\n",
              "    }\n",
              "\n",
              "    .colab-df-convert {\n",
              "      background-color: #E8F0FE;\n",
              "      border: none;\n",
              "      border-radius: 50%;\n",
              "      cursor: pointer;\n",
              "      display: none;\n",
              "      fill: #1967D2;\n",
              "      height: 32px;\n",
              "      padding: 0 0 0 0;\n",
              "      width: 32px;\n",
              "    }\n",
              "\n",
              "    .colab-df-convert:hover {\n",
              "      background-color: #E2EBFA;\n",
              "      box-shadow: 0px 1px 2px rgba(60, 64, 67, 0.3), 0px 1px 3px 1px rgba(60, 64, 67, 0.15);\n",
              "      fill: #174EA6;\n",
              "    }\n",
              "\n",
              "    [theme=dark] .colab-df-convert {\n",
              "      background-color: #3B4455;\n",
              "      fill: #D2E3FC;\n",
              "    }\n",
              "\n",
              "    [theme=dark] .colab-df-convert:hover {\n",
              "      background-color: #434B5C;\n",
              "      box-shadow: 0px 1px 3px 1px rgba(0, 0, 0, 0.15);\n",
              "      filter: drop-shadow(0px 1px 2px rgba(0, 0, 0, 0.3));\n",
              "      fill: #FFFFFF;\n",
              "    }\n",
              "  </style>\n",
              "\n",
              "      <script>\n",
              "        const buttonEl =\n",
              "          document.querySelector('#df-b3529154-a230-4384-8791-aadb0f56ee6a button.colab-df-convert');\n",
              "        buttonEl.style.display =\n",
              "          google.colab.kernel.accessAllowed ? 'block' : 'none';\n",
              "\n",
              "        async function convertToInteractive(key) {\n",
              "          const element = document.querySelector('#df-b3529154-a230-4384-8791-aadb0f56ee6a');\n",
              "          const dataTable =\n",
              "            await google.colab.kernel.invokeFunction('convertToInteractive',\n",
              "                                                     [key], {});\n",
              "          if (!dataTable) return;\n",
              "\n",
              "          const docLinkHtml = 'Like what you see? Visit the ' +\n",
              "            '<a target=\"_blank\" href=https://colab.research.google.com/notebooks/data_table.ipynb>data table notebook</a>'\n",
              "            + ' to learn more about interactive tables.';\n",
              "          element.innerHTML = '';\n",
              "          dataTable['output_type'] = 'display_data';\n",
              "          await google.colab.output.renderOutput(dataTable, element);\n",
              "          const docLink = document.createElement('div');\n",
              "          docLink.innerHTML = docLinkHtml;\n",
              "          element.appendChild(docLink);\n",
              "        }\n",
              "      </script>\n",
              "    </div>\n",
              "  </div>\n",
              "  "
            ]
          },
          "metadata": {},
          "execution_count": 9
        }
      ]
    },
    {
      "cell_type": "code",
      "source": [
        "test_df.sort_values(by='Description', ascending=True, inplace=False)"
      ],
      "metadata": {
        "colab": {
          "base_uri": "https://localhost:8080/",
          "height": 424
        },
        "id": "NZi6EvsEm5ca",
        "outputId": "177cfdd3-5757-4db0-e69c-f8a5d5f57bae"
      },
      "id": "NZi6EvsEm5ca",
      "execution_count": 10,
      "outputs": [
        {
          "output_type": "execute_result",
          "data": {
            "text/plain": [
              "      Class                                              Title  \\\n",
              "4562      3               Consumer Confidence Hits 7-Month Low   \n",
              "6698      1                                Terms of Endearment   \n",
              "6465      1             Forecast Frosty for U.S.-Canadian Ties   \n",
              "170       4                  10 features for a perfect browser   \n",
              "5775      3           SEC Charges Hollinger's Black with Fraud   \n",
              "...     ...                                                ...   \n",
              "7135      3  The relief of shedding a big ball and chain: H...   \n",
              "3116      4  OPM Delving Deeper Into Employees #39; Backgro...   \n",
              "4996      2                          Diva gallops into history   \n",
              "7132      1        Plant a tree at Easter urges Nobel laureate   \n",
              "1276      2    Once Again, Mets Sputter Toward End of a Season   \n",
              "\n",
              "                                            Description  \n",
              "4562    NEW YORK (Reuters) - U.S. consumers turned m...  \n",
              "6698    Seems that the Bush administration, unlike p...  \n",
              "6465    TORONTO -- The weather won't be the only thi...  \n",
              "170     There are some  great  browsers  out there. ...  \n",
              "5775    WASHINGTON (Reuters) - U.S. regulators filed...  \n",
              "...                                                 ...  \n",
              "7135  which owns fund manager Henderson, - yesterday...  \n",
              "3116  which sets hiring and employment standards for...  \n",
              "4996  wind, water and Makybe Diva -ll came together ...  \n",
              "7132  world to plant trees at Easter as a symbol of ...  \n",
              "1276  year ago, the Mets were going nowhere when the...  \n",
              "\n",
              "[7594 rows x 3 columns]"
            ],
            "text/html": [
              "\n",
              "  <div id=\"df-f13e609a-fd06-42a0-8a8f-db7490754ac6\">\n",
              "    <div class=\"colab-df-container\">\n",
              "      <div>\n",
              "<style scoped>\n",
              "    .dataframe tbody tr th:only-of-type {\n",
              "        vertical-align: middle;\n",
              "    }\n",
              "\n",
              "    .dataframe tbody tr th {\n",
              "        vertical-align: top;\n",
              "    }\n",
              "\n",
              "    .dataframe thead th {\n",
              "        text-align: right;\n",
              "    }\n",
              "</style>\n",
              "<table border=\"1\" class=\"dataframe\">\n",
              "  <thead>\n",
              "    <tr style=\"text-align: right;\">\n",
              "      <th></th>\n",
              "      <th>Class</th>\n",
              "      <th>Title</th>\n",
              "      <th>Description</th>\n",
              "    </tr>\n",
              "  </thead>\n",
              "  <tbody>\n",
              "    <tr>\n",
              "      <th>4562</th>\n",
              "      <td>3</td>\n",
              "      <td>Consumer Confidence Hits 7-Month Low</td>\n",
              "      <td>NEW YORK (Reuters) - U.S. consumers turned m...</td>\n",
              "    </tr>\n",
              "    <tr>\n",
              "      <th>6698</th>\n",
              "      <td>1</td>\n",
              "      <td>Terms of Endearment</td>\n",
              "      <td>Seems that the Bush administration, unlike p...</td>\n",
              "    </tr>\n",
              "    <tr>\n",
              "      <th>6465</th>\n",
              "      <td>1</td>\n",
              "      <td>Forecast Frosty for U.S.-Canadian Ties</td>\n",
              "      <td>TORONTO -- The weather won't be the only thi...</td>\n",
              "    </tr>\n",
              "    <tr>\n",
              "      <th>170</th>\n",
              "      <td>4</td>\n",
              "      <td>10 features for a perfect browser</td>\n",
              "      <td>There are some  great  browsers  out there. ...</td>\n",
              "    </tr>\n",
              "    <tr>\n",
              "      <th>5775</th>\n",
              "      <td>3</td>\n",
              "      <td>SEC Charges Hollinger's Black with Fraud</td>\n",
              "      <td>WASHINGTON (Reuters) - U.S. regulators filed...</td>\n",
              "    </tr>\n",
              "    <tr>\n",
              "      <th>...</th>\n",
              "      <td>...</td>\n",
              "      <td>...</td>\n",
              "      <td>...</td>\n",
              "    </tr>\n",
              "    <tr>\n",
              "      <th>7135</th>\n",
              "      <td>3</td>\n",
              "      <td>The relief of shedding a big ball and chain: H...</td>\n",
              "      <td>which owns fund manager Henderson, - yesterday...</td>\n",
              "    </tr>\n",
              "    <tr>\n",
              "      <th>3116</th>\n",
              "      <td>4</td>\n",
              "      <td>OPM Delving Deeper Into Employees #39; Backgro...</td>\n",
              "      <td>which sets hiring and employment standards for...</td>\n",
              "    </tr>\n",
              "    <tr>\n",
              "      <th>4996</th>\n",
              "      <td>2</td>\n",
              "      <td>Diva gallops into history</td>\n",
              "      <td>wind, water and Makybe Diva -ll came together ...</td>\n",
              "    </tr>\n",
              "    <tr>\n",
              "      <th>7132</th>\n",
              "      <td>1</td>\n",
              "      <td>Plant a tree at Easter urges Nobel laureate</td>\n",
              "      <td>world to plant trees at Easter as a symbol of ...</td>\n",
              "    </tr>\n",
              "    <tr>\n",
              "      <th>1276</th>\n",
              "      <td>2</td>\n",
              "      <td>Once Again, Mets Sputter Toward End of a Season</td>\n",
              "      <td>year ago, the Mets were going nowhere when the...</td>\n",
              "    </tr>\n",
              "  </tbody>\n",
              "</table>\n",
              "<p>7594 rows × 3 columns</p>\n",
              "</div>\n",
              "      <button class=\"colab-df-convert\" onclick=\"convertToInteractive('df-f13e609a-fd06-42a0-8a8f-db7490754ac6')\"\n",
              "              title=\"Convert this dataframe to an interactive table.\"\n",
              "              style=\"display:none;\">\n",
              "        \n",
              "  <svg xmlns=\"http://www.w3.org/2000/svg\" height=\"24px\"viewBox=\"0 0 24 24\"\n",
              "       width=\"24px\">\n",
              "    <path d=\"M0 0h24v24H0V0z\" fill=\"none\"/>\n",
              "    <path d=\"M18.56 5.44l.94 2.06.94-2.06 2.06-.94-2.06-.94-.94-2.06-.94 2.06-2.06.94zm-11 1L8.5 8.5l.94-2.06 2.06-.94-2.06-.94L8.5 2.5l-.94 2.06-2.06.94zm10 10l.94 2.06.94-2.06 2.06-.94-2.06-.94-.94-2.06-.94 2.06-2.06.94z\"/><path d=\"M17.41 7.96l-1.37-1.37c-.4-.4-.92-.59-1.43-.59-.52 0-1.04.2-1.43.59L10.3 9.45l-7.72 7.72c-.78.78-.78 2.05 0 2.83L4 21.41c.39.39.9.59 1.41.59.51 0 1.02-.2 1.41-.59l7.78-7.78 2.81-2.81c.8-.78.8-2.07 0-2.86zM5.41 20L4 18.59l7.72-7.72 1.47 1.35L5.41 20z\"/>\n",
              "  </svg>\n",
              "      </button>\n",
              "      \n",
              "  <style>\n",
              "    .colab-df-container {\n",
              "      display:flex;\n",
              "      flex-wrap:wrap;\n",
              "      gap: 12px;\n",
              "    }\n",
              "\n",
              "    .colab-df-convert {\n",
              "      background-color: #E8F0FE;\n",
              "      border: none;\n",
              "      border-radius: 50%;\n",
              "      cursor: pointer;\n",
              "      display: none;\n",
              "      fill: #1967D2;\n",
              "      height: 32px;\n",
              "      padding: 0 0 0 0;\n",
              "      width: 32px;\n",
              "    }\n",
              "\n",
              "    .colab-df-convert:hover {\n",
              "      background-color: #E2EBFA;\n",
              "      box-shadow: 0px 1px 2px rgba(60, 64, 67, 0.3), 0px 1px 3px 1px rgba(60, 64, 67, 0.15);\n",
              "      fill: #174EA6;\n",
              "    }\n",
              "\n",
              "    [theme=dark] .colab-df-convert {\n",
              "      background-color: #3B4455;\n",
              "      fill: #D2E3FC;\n",
              "    }\n",
              "\n",
              "    [theme=dark] .colab-df-convert:hover {\n",
              "      background-color: #434B5C;\n",
              "      box-shadow: 0px 1px 3px 1px rgba(0, 0, 0, 0.15);\n",
              "      filter: drop-shadow(0px 1px 2px rgba(0, 0, 0, 0.3));\n",
              "      fill: #FFFFFF;\n",
              "    }\n",
              "  </style>\n",
              "\n",
              "      <script>\n",
              "        const buttonEl =\n",
              "          document.querySelector('#df-f13e609a-fd06-42a0-8a8f-db7490754ac6 button.colab-df-convert');\n",
              "        buttonEl.style.display =\n",
              "          google.colab.kernel.accessAllowed ? 'block' : 'none';\n",
              "\n",
              "        async function convertToInteractive(key) {\n",
              "          const element = document.querySelector('#df-f13e609a-fd06-42a0-8a8f-db7490754ac6');\n",
              "          const dataTable =\n",
              "            await google.colab.kernel.invokeFunction('convertToInteractive',\n",
              "                                                     [key], {});\n",
              "          if (!dataTable) return;\n",
              "\n",
              "          const docLinkHtml = 'Like what you see? Visit the ' +\n",
              "            '<a target=\"_blank\" href=https://colab.research.google.com/notebooks/data_table.ipynb>data table notebook</a>'\n",
              "            + ' to learn more about interactive tables.';\n",
              "          element.innerHTML = '';\n",
              "          dataTable['output_type'] = 'display_data';\n",
              "          await google.colab.output.renderOutput(dataTable, element);\n",
              "          const docLink = document.createElement('div');\n",
              "          docLink.innerHTML = docLinkHtml;\n",
              "          element.appendChild(docLink);\n",
              "        }\n",
              "      </script>\n",
              "    </div>\n",
              "  </div>\n",
              "  "
            ]
          },
          "metadata": {},
          "execution_count": 10
        }
      ]
    },
    {
      "cell_type": "markdown",
      "id": "4a9386dd-a8d9-4ca9-a08d-11186faf7692",
      "metadata": {
        "id": "4a9386dd-a8d9-4ca9-a08d-11186faf7692"
      },
      "source": [
        "- Eliminación cadenas de espacios en el campo *Description*."
      ]
    },
    {
      "cell_type": "code",
      "execution_count": 11,
      "id": "43c5e1fd-8ba8-4347-8b5c-018bf6e725d7",
      "metadata": {
        "id": "43c5e1fd-8ba8-4347-8b5c-018bf6e725d7"
      },
      "outputs": [],
      "source": [
        "train_df = train_df[train_df['Description'].str.strip() != '']"
      ]
    },
    {
      "cell_type": "code",
      "source": [
        "val_df = val_df[val_df['Description'].str.strip() != '']"
      ],
      "metadata": {
        "id": "KP6sUoZDn3Tw"
      },
      "id": "KP6sUoZDn3Tw",
      "execution_count": 12,
      "outputs": []
    },
    {
      "cell_type": "code",
      "source": [
        "test_df = test_df[test_df['Description'].str.strip() != '']"
      ],
      "metadata": {
        "id": "lwzPbWFfoN5b"
      },
      "id": "lwzPbWFfoN5b",
      "execution_count": 13,
      "outputs": []
    },
    {
      "cell_type": "markdown",
      "source": [
        "- Reconfiguración de índices y validación de tamaño de los dataframes tras su depuración."
      ],
      "metadata": {
        "id": "Fk5tgaEhKeGY"
      },
      "id": "Fk5tgaEhKeGY"
    },
    {
      "cell_type": "code",
      "execution_count": 14,
      "id": "17a77ff2-5799-488c-8ee7-3ae3a32395b9",
      "metadata": {
        "id": "17a77ff2-5799-488c-8ee7-3ae3a32395b9"
      },
      "outputs": [],
      "source": [
        "train_df = train_df.reset_index(drop=True)\n",
        "val_df = val_df.reset_index(drop=True)\n",
        "test_df = test_df.reset_index(drop=True)"
      ]
    },
    {
      "cell_type": "code",
      "execution_count": 15,
      "id": "0e7f3959-32ca-49ad-abca-ef3e1fc9c080",
      "metadata": {
        "colab": {
          "base_uri": "https://localhost:8080/"
        },
        "id": "0e7f3959-32ca-49ad-abca-ef3e1fc9c080",
        "outputId": "058893c0-69de-47c3-d6e0-c33bf3042e8b"
      },
      "outputs": [
        {
          "output_type": "stream",
          "name": "stdout",
          "text": [
            "111173\n",
            "7554\n",
            "7594\n"
          ]
        }
      ],
      "source": [
        "print(len(train_df))\n",
        "print(len(val_df))\n",
        "print(len(test_df))"
      ]
    },
    {
      "cell_type": "markdown",
      "source": [
        "- Creación de una nueva columna (Text) añadiendo el título a la descripción. Esta columna será la utilizada para el entrenamiento de los modelos, ya que proporciona la mayor cantidad de información sobre la noticia."
      ],
      "metadata": {
        "id": "P2XZ9xAUgq9s"
      },
      "id": "P2XZ9xAUgq9s"
    },
    {
      "cell_type": "code",
      "source": [
        "train_df['Text'] = train_df['Title']+ train_df['Description']\n",
        "val_df['Text'] = val_df['Title']+ val_df['Description']\n",
        "test_df['Text'] = test_df['Title']+ test_df['Description']"
      ],
      "metadata": {
        "id": "W1b5BZcogxWO"
      },
      "id": "W1b5BZcogxWO",
      "execution_count": 16,
      "outputs": []
    },
    {
      "cell_type": "markdown",
      "source": [
        "- Modificación del ID de la categoría de noticia para que se encuentre en el rango [0, 4)."
      ],
      "metadata": {
        "id": "cksVMm4Usl7M"
      },
      "id": "cksVMm4Usl7M"
    },
    {
      "cell_type": "code",
      "source": [
        "train_df['Class'] = train_df['Class'] - 1\n",
        "val_df['Class'] = val_df['Class'] - 1\n",
        "test_df['Class'] = test_df['Class'] - 1"
      ],
      "metadata": {
        "id": "kq2qUvlPsxCw"
      },
      "id": "kq2qUvlPsxCw",
      "execution_count": 17,
      "outputs": []
    },
    {
      "cell_type": "markdown",
      "id": "3eb4b12e-9ea6-492f-906c-e2a205ca0061",
      "metadata": {
        "id": "3eb4b12e-9ea6-492f-906c-e2a205ca0061"
      },
      "source": [
        "- Eliminación de puntuación y conversión a minúsculas."
      ]
    },
    {
      "cell_type": "code",
      "execution_count": 18,
      "id": "6a5aa290-98ec-4e71-a4e4-69efc463f8ec",
      "metadata": {
        "id": "6a5aa290-98ec-4e71-a4e4-69efc463f8ec"
      },
      "outputs": [],
      "source": [
        "train_df['Text'] = train_df['Text'].str.lower().str.translate(str.maketrans('', '', string.punctuation))"
      ]
    },
    {
      "cell_type": "code",
      "source": [
        "val_df['Text'] = val_df['Text'].str.lower().str.translate(str.maketrans('', '', string.punctuation))"
      ],
      "metadata": {
        "id": "9DDuKTkLpBUo"
      },
      "id": "9DDuKTkLpBUo",
      "execution_count": 19,
      "outputs": []
    },
    {
      "cell_type": "code",
      "source": [
        "test_df['Text'] = test_df['Text'].str.lower().str.translate(str.maketrans('', '', string.punctuation))"
      ],
      "metadata": {
        "id": "r_FXRsqOpL5p"
      },
      "id": "r_FXRsqOpL5p",
      "execution_count": 20,
      "outputs": []
    },
    {
      "cell_type": "markdown",
      "source": [
        "- Muestra de dataframes listos para utilizarse."
      ],
      "metadata": {
        "id": "yzC-QCEBLJL7"
      },
      "id": "yzC-QCEBLJL7"
    },
    {
      "cell_type": "code",
      "source": [
        "train_df.head()"
      ],
      "metadata": {
        "colab": {
          "base_uri": "https://localhost:8080/",
          "height": 302
        },
        "id": "7COXK_rHLOVY",
        "outputId": "f536deb0-7f32-4191-e173-cf8e778b982b"
      },
      "id": "7COXK_rHLOVY",
      "execution_count": 21,
      "outputs": [
        {
          "output_type": "execute_result",
          "data": {
            "text/plain": [
              "   Class                                              Title  \\\n",
              "0      2  Wall St. Bears Claw Back Into the Black (Reuters)   \n",
              "1      2  Carlyle Looks Toward Commercial Aerospace (Reu...   \n",
              "2      2    Oil and Economy Cloud Stocks' Outlook (Reuters)   \n",
              "3      2  Iraq Halts Oil Exports from Main Southern Pipe...   \n",
              "4      2  Oil prices soar to all-time record, posing new...   \n",
              "\n",
              "                                         Description  \\\n",
              "0  Reuters - Short-sellers, Wall Street's dwindli...   \n",
              "1  Reuters - Private investment firm Carlyle Grou...   \n",
              "2  Reuters - Soaring crude prices plus worries\\ab...   \n",
              "3  Reuters - Authorities have halted oil export\\f...   \n",
              "4  AFP - Tearaway world oil prices, toppling reco...   \n",
              "\n",
              "                                                Text  \n",
              "0  wall st bears claw back into the black reuters...  \n",
              "1  carlyle looks toward commercial aerospace reut...  \n",
              "2  oil and economy cloud stocks outlook reutersre...  \n",
              "3  iraq halts oil exports from main southern pipe...  \n",
              "4  oil prices soar to alltime record posing new m...  "
            ],
            "text/html": [
              "\n",
              "  <div id=\"df-fb4f2f8f-4a1f-4fc5-9266-fb03fe97ad42\">\n",
              "    <div class=\"colab-df-container\">\n",
              "      <div>\n",
              "<style scoped>\n",
              "    .dataframe tbody tr th:only-of-type {\n",
              "        vertical-align: middle;\n",
              "    }\n",
              "\n",
              "    .dataframe tbody tr th {\n",
              "        vertical-align: top;\n",
              "    }\n",
              "\n",
              "    .dataframe thead th {\n",
              "        text-align: right;\n",
              "    }\n",
              "</style>\n",
              "<table border=\"1\" class=\"dataframe\">\n",
              "  <thead>\n",
              "    <tr style=\"text-align: right;\">\n",
              "      <th></th>\n",
              "      <th>Class</th>\n",
              "      <th>Title</th>\n",
              "      <th>Description</th>\n",
              "      <th>Text</th>\n",
              "    </tr>\n",
              "  </thead>\n",
              "  <tbody>\n",
              "    <tr>\n",
              "      <th>0</th>\n",
              "      <td>2</td>\n",
              "      <td>Wall St. Bears Claw Back Into the Black (Reuters)</td>\n",
              "      <td>Reuters - Short-sellers, Wall Street's dwindli...</td>\n",
              "      <td>wall st bears claw back into the black reuters...</td>\n",
              "    </tr>\n",
              "    <tr>\n",
              "      <th>1</th>\n",
              "      <td>2</td>\n",
              "      <td>Carlyle Looks Toward Commercial Aerospace (Reu...</td>\n",
              "      <td>Reuters - Private investment firm Carlyle Grou...</td>\n",
              "      <td>carlyle looks toward commercial aerospace reut...</td>\n",
              "    </tr>\n",
              "    <tr>\n",
              "      <th>2</th>\n",
              "      <td>2</td>\n",
              "      <td>Oil and Economy Cloud Stocks' Outlook (Reuters)</td>\n",
              "      <td>Reuters - Soaring crude prices plus worries\\ab...</td>\n",
              "      <td>oil and economy cloud stocks outlook reutersre...</td>\n",
              "    </tr>\n",
              "    <tr>\n",
              "      <th>3</th>\n",
              "      <td>2</td>\n",
              "      <td>Iraq Halts Oil Exports from Main Southern Pipe...</td>\n",
              "      <td>Reuters - Authorities have halted oil export\\f...</td>\n",
              "      <td>iraq halts oil exports from main southern pipe...</td>\n",
              "    </tr>\n",
              "    <tr>\n",
              "      <th>4</th>\n",
              "      <td>2</td>\n",
              "      <td>Oil prices soar to all-time record, posing new...</td>\n",
              "      <td>AFP - Tearaway world oil prices, toppling reco...</td>\n",
              "      <td>oil prices soar to alltime record posing new m...</td>\n",
              "    </tr>\n",
              "  </tbody>\n",
              "</table>\n",
              "</div>\n",
              "      <button class=\"colab-df-convert\" onclick=\"convertToInteractive('df-fb4f2f8f-4a1f-4fc5-9266-fb03fe97ad42')\"\n",
              "              title=\"Convert this dataframe to an interactive table.\"\n",
              "              style=\"display:none;\">\n",
              "        \n",
              "  <svg xmlns=\"http://www.w3.org/2000/svg\" height=\"24px\"viewBox=\"0 0 24 24\"\n",
              "       width=\"24px\">\n",
              "    <path d=\"M0 0h24v24H0V0z\" fill=\"none\"/>\n",
              "    <path d=\"M18.56 5.44l.94 2.06.94-2.06 2.06-.94-2.06-.94-.94-2.06-.94 2.06-2.06.94zm-11 1L8.5 8.5l.94-2.06 2.06-.94-2.06-.94L8.5 2.5l-.94 2.06-2.06.94zm10 10l.94 2.06.94-2.06 2.06-.94-2.06-.94-.94-2.06-.94 2.06-2.06.94z\"/><path d=\"M17.41 7.96l-1.37-1.37c-.4-.4-.92-.59-1.43-.59-.52 0-1.04.2-1.43.59L10.3 9.45l-7.72 7.72c-.78.78-.78 2.05 0 2.83L4 21.41c.39.39.9.59 1.41.59.51 0 1.02-.2 1.41-.59l7.78-7.78 2.81-2.81c.8-.78.8-2.07 0-2.86zM5.41 20L4 18.59l7.72-7.72 1.47 1.35L5.41 20z\"/>\n",
              "  </svg>\n",
              "      </button>\n",
              "      \n",
              "  <style>\n",
              "    .colab-df-container {\n",
              "      display:flex;\n",
              "      flex-wrap:wrap;\n",
              "      gap: 12px;\n",
              "    }\n",
              "\n",
              "    .colab-df-convert {\n",
              "      background-color: #E8F0FE;\n",
              "      border: none;\n",
              "      border-radius: 50%;\n",
              "      cursor: pointer;\n",
              "      display: none;\n",
              "      fill: #1967D2;\n",
              "      height: 32px;\n",
              "      padding: 0 0 0 0;\n",
              "      width: 32px;\n",
              "    }\n",
              "\n",
              "    .colab-df-convert:hover {\n",
              "      background-color: #E2EBFA;\n",
              "      box-shadow: 0px 1px 2px rgba(60, 64, 67, 0.3), 0px 1px 3px 1px rgba(60, 64, 67, 0.15);\n",
              "      fill: #174EA6;\n",
              "    }\n",
              "\n",
              "    [theme=dark] .colab-df-convert {\n",
              "      background-color: #3B4455;\n",
              "      fill: #D2E3FC;\n",
              "    }\n",
              "\n",
              "    [theme=dark] .colab-df-convert:hover {\n",
              "      background-color: #434B5C;\n",
              "      box-shadow: 0px 1px 3px 1px rgba(0, 0, 0, 0.15);\n",
              "      filter: drop-shadow(0px 1px 2px rgba(0, 0, 0, 0.3));\n",
              "      fill: #FFFFFF;\n",
              "    }\n",
              "  </style>\n",
              "\n",
              "      <script>\n",
              "        const buttonEl =\n",
              "          document.querySelector('#df-fb4f2f8f-4a1f-4fc5-9266-fb03fe97ad42 button.colab-df-convert');\n",
              "        buttonEl.style.display =\n",
              "          google.colab.kernel.accessAllowed ? 'block' : 'none';\n",
              "\n",
              "        async function convertToInteractive(key) {\n",
              "          const element = document.querySelector('#df-fb4f2f8f-4a1f-4fc5-9266-fb03fe97ad42');\n",
              "          const dataTable =\n",
              "            await google.colab.kernel.invokeFunction('convertToInteractive',\n",
              "                                                     [key], {});\n",
              "          if (!dataTable) return;\n",
              "\n",
              "          const docLinkHtml = 'Like what you see? Visit the ' +\n",
              "            '<a target=\"_blank\" href=https://colab.research.google.com/notebooks/data_table.ipynb>data table notebook</a>'\n",
              "            + ' to learn more about interactive tables.';\n",
              "          element.innerHTML = '';\n",
              "          dataTable['output_type'] = 'display_data';\n",
              "          await google.colab.output.renderOutput(dataTable, element);\n",
              "          const docLink = document.createElement('div');\n",
              "          docLink.innerHTML = docLinkHtml;\n",
              "          element.appendChild(docLink);\n",
              "        }\n",
              "      </script>\n",
              "    </div>\n",
              "  </div>\n",
              "  "
            ]
          },
          "metadata": {},
          "execution_count": 21
        }
      ]
    },
    {
      "cell_type": "code",
      "source": [
        "val_df.head()"
      ],
      "metadata": {
        "colab": {
          "base_uri": "https://localhost:8080/",
          "height": 302
        },
        "id": "Yvb8cbfgLfMi",
        "outputId": "cd7a2b47-e4ff-449d-efcb-17158a7f3db6"
      },
      "id": "Yvb8cbfgLfMi",
      "execution_count": 22,
      "outputs": [
        {
          "output_type": "execute_result",
          "data": {
            "text/plain": [
              "   Class                                              Title  \\\n",
              "0      2  Permira links with Apollo to join Toys  #39;R ...   \n",
              "1      2                3Com to buy TippingPoint for \\$430M   \n",
              "2      2            Icahn Files Suit vs. Mylan Laboratories   \n",
              "3      2  Fiat dismisses GM threat that car unit might g...   \n",
              "4      3  NASA: Mondays The Best Time To See Geminid Met...   \n",
              "\n",
              "                                         Description  \\\n",
              "0  Permira, the private equity firm that owns New...   \n",
              "1  DECEMBER 13, 2004 (IDG NEWS SERVICE) - 3Com Co...   \n",
              "2  Billionaire investor Carl Icahn filed a federa...   \n",
              "3  Fiat threw down the gauntlet to General Motors...   \n",
              "4  Stargazers can catch a spectacular sight if th...   \n",
              "\n",
              "                                                Text  \n",
              "0  permira links with apollo to join toys  39r 39...  \n",
              "1  3com to buy tippingpoint for 430mdecember 13 2...  \n",
              "2  icahn files suit vs mylan laboratoriesbilliona...  \n",
              "3  fiat dismisses gm threat that car unit might g...  \n",
              "4  nasa mondays the best time to see geminid mete...  "
            ],
            "text/html": [
              "\n",
              "  <div id=\"df-a144ad54-a2e6-4d41-8e35-a860a989b40b\">\n",
              "    <div class=\"colab-df-container\">\n",
              "      <div>\n",
              "<style scoped>\n",
              "    .dataframe tbody tr th:only-of-type {\n",
              "        vertical-align: middle;\n",
              "    }\n",
              "\n",
              "    .dataframe tbody tr th {\n",
              "        vertical-align: top;\n",
              "    }\n",
              "\n",
              "    .dataframe thead th {\n",
              "        text-align: right;\n",
              "    }\n",
              "</style>\n",
              "<table border=\"1\" class=\"dataframe\">\n",
              "  <thead>\n",
              "    <tr style=\"text-align: right;\">\n",
              "      <th></th>\n",
              "      <th>Class</th>\n",
              "      <th>Title</th>\n",
              "      <th>Description</th>\n",
              "      <th>Text</th>\n",
              "    </tr>\n",
              "  </thead>\n",
              "  <tbody>\n",
              "    <tr>\n",
              "      <th>0</th>\n",
              "      <td>2</td>\n",
              "      <td>Permira links with Apollo to join Toys  #39;R ...</td>\n",
              "      <td>Permira, the private equity firm that owns New...</td>\n",
              "      <td>permira links with apollo to join toys  39r 39...</td>\n",
              "    </tr>\n",
              "    <tr>\n",
              "      <th>1</th>\n",
              "      <td>2</td>\n",
              "      <td>3Com to buy TippingPoint for \\$430M</td>\n",
              "      <td>DECEMBER 13, 2004 (IDG NEWS SERVICE) - 3Com Co...</td>\n",
              "      <td>3com to buy tippingpoint for 430mdecember 13 2...</td>\n",
              "    </tr>\n",
              "    <tr>\n",
              "      <th>2</th>\n",
              "      <td>2</td>\n",
              "      <td>Icahn Files Suit vs. Mylan Laboratories</td>\n",
              "      <td>Billionaire investor Carl Icahn filed a federa...</td>\n",
              "      <td>icahn files suit vs mylan laboratoriesbilliona...</td>\n",
              "    </tr>\n",
              "    <tr>\n",
              "      <th>3</th>\n",
              "      <td>2</td>\n",
              "      <td>Fiat dismisses GM threat that car unit might g...</td>\n",
              "      <td>Fiat threw down the gauntlet to General Motors...</td>\n",
              "      <td>fiat dismisses gm threat that car unit might g...</td>\n",
              "    </tr>\n",
              "    <tr>\n",
              "      <th>4</th>\n",
              "      <td>3</td>\n",
              "      <td>NASA: Mondays The Best Time To See Geminid Met...</td>\n",
              "      <td>Stargazers can catch a spectacular sight if th...</td>\n",
              "      <td>nasa mondays the best time to see geminid mete...</td>\n",
              "    </tr>\n",
              "  </tbody>\n",
              "</table>\n",
              "</div>\n",
              "      <button class=\"colab-df-convert\" onclick=\"convertToInteractive('df-a144ad54-a2e6-4d41-8e35-a860a989b40b')\"\n",
              "              title=\"Convert this dataframe to an interactive table.\"\n",
              "              style=\"display:none;\">\n",
              "        \n",
              "  <svg xmlns=\"http://www.w3.org/2000/svg\" height=\"24px\"viewBox=\"0 0 24 24\"\n",
              "       width=\"24px\">\n",
              "    <path d=\"M0 0h24v24H0V0z\" fill=\"none\"/>\n",
              "    <path d=\"M18.56 5.44l.94 2.06.94-2.06 2.06-.94-2.06-.94-.94-2.06-.94 2.06-2.06.94zm-11 1L8.5 8.5l.94-2.06 2.06-.94-2.06-.94L8.5 2.5l-.94 2.06-2.06.94zm10 10l.94 2.06.94-2.06 2.06-.94-2.06-.94-.94-2.06-.94 2.06-2.06.94z\"/><path d=\"M17.41 7.96l-1.37-1.37c-.4-.4-.92-.59-1.43-.59-.52 0-1.04.2-1.43.59L10.3 9.45l-7.72 7.72c-.78.78-.78 2.05 0 2.83L4 21.41c.39.39.9.59 1.41.59.51 0 1.02-.2 1.41-.59l7.78-7.78 2.81-2.81c.8-.78.8-2.07 0-2.86zM5.41 20L4 18.59l7.72-7.72 1.47 1.35L5.41 20z\"/>\n",
              "  </svg>\n",
              "      </button>\n",
              "      \n",
              "  <style>\n",
              "    .colab-df-container {\n",
              "      display:flex;\n",
              "      flex-wrap:wrap;\n",
              "      gap: 12px;\n",
              "    }\n",
              "\n",
              "    .colab-df-convert {\n",
              "      background-color: #E8F0FE;\n",
              "      border: none;\n",
              "      border-radius: 50%;\n",
              "      cursor: pointer;\n",
              "      display: none;\n",
              "      fill: #1967D2;\n",
              "      height: 32px;\n",
              "      padding: 0 0 0 0;\n",
              "      width: 32px;\n",
              "    }\n",
              "\n",
              "    .colab-df-convert:hover {\n",
              "      background-color: #E2EBFA;\n",
              "      box-shadow: 0px 1px 2px rgba(60, 64, 67, 0.3), 0px 1px 3px 1px rgba(60, 64, 67, 0.15);\n",
              "      fill: #174EA6;\n",
              "    }\n",
              "\n",
              "    [theme=dark] .colab-df-convert {\n",
              "      background-color: #3B4455;\n",
              "      fill: #D2E3FC;\n",
              "    }\n",
              "\n",
              "    [theme=dark] .colab-df-convert:hover {\n",
              "      background-color: #434B5C;\n",
              "      box-shadow: 0px 1px 3px 1px rgba(0, 0, 0, 0.15);\n",
              "      filter: drop-shadow(0px 1px 2px rgba(0, 0, 0, 0.3));\n",
              "      fill: #FFFFFF;\n",
              "    }\n",
              "  </style>\n",
              "\n",
              "      <script>\n",
              "        const buttonEl =\n",
              "          document.querySelector('#df-a144ad54-a2e6-4d41-8e35-a860a989b40b button.colab-df-convert');\n",
              "        buttonEl.style.display =\n",
              "          google.colab.kernel.accessAllowed ? 'block' : 'none';\n",
              "\n",
              "        async function convertToInteractive(key) {\n",
              "          const element = document.querySelector('#df-a144ad54-a2e6-4d41-8e35-a860a989b40b');\n",
              "          const dataTable =\n",
              "            await google.colab.kernel.invokeFunction('convertToInteractive',\n",
              "                                                     [key], {});\n",
              "          if (!dataTable) return;\n",
              "\n",
              "          const docLinkHtml = 'Like what you see? Visit the ' +\n",
              "            '<a target=\"_blank\" href=https://colab.research.google.com/notebooks/data_table.ipynb>data table notebook</a>'\n",
              "            + ' to learn more about interactive tables.';\n",
              "          element.innerHTML = '';\n",
              "          dataTable['output_type'] = 'display_data';\n",
              "          await google.colab.output.renderOutput(dataTable, element);\n",
              "          const docLink = document.createElement('div');\n",
              "          docLink.innerHTML = docLinkHtml;\n",
              "          element.appendChild(docLink);\n",
              "        }\n",
              "      </script>\n",
              "    </div>\n",
              "  </div>\n",
              "  "
            ]
          },
          "metadata": {},
          "execution_count": 22
        }
      ]
    },
    {
      "cell_type": "code",
      "source": [
        "test_df.head()"
      ],
      "metadata": {
        "colab": {
          "base_uri": "https://localhost:8080/",
          "height": 337
        },
        "id": "S2Xyb5NCLgvh",
        "outputId": "de924fd6-fb8a-46cd-946b-14d5bbe7192c"
      },
      "id": "S2Xyb5NCLgvh",
      "execution_count": 23,
      "outputs": [
        {
          "output_type": "execute_result",
          "data": {
            "text/plain": [
              "   Class                                              Title  \\\n",
              "0      2                  Fears for T N pension after talks   \n",
              "1      3  The Race is On: Second Private Team Sets Launc...   \n",
              "2      3      Ky. Company Wins Grant to Study Peptides (AP)   \n",
              "3      3      Prediction Unit Helps Forecast Wildfires (AP)   \n",
              "4      3        Calif. Aims to Limit Farm-Related Smog (AP)   \n",
              "\n",
              "                                         Description  \\\n",
              "0  Unions representing workers at Turner   Newall...   \n",
              "1  SPACE.com - TORONTO, Canada -- A second\\team o...   \n",
              "2  AP - A company founded by a chemistry research...   \n",
              "3  AP - It's barely dawn when Mike Fitzpatrick st...   \n",
              "4  AP - Southern California's smog-fighting agenc...   \n",
              "\n",
              "                                                Text  \n",
              "0  fears for t n pension after talksunions repres...  \n",
              "1  the race is on second private team sets launch...  \n",
              "2  ky company wins grant to study peptides apap  ...  \n",
              "3  prediction unit helps forecast wildfires apap ...  \n",
              "4  calif aims to limit farmrelated smog apap  sou...  "
            ],
            "text/html": [
              "\n",
              "  <div id=\"df-3d8f6d69-00d4-4a9a-8042-1f5761a0800d\">\n",
              "    <div class=\"colab-df-container\">\n",
              "      <div>\n",
              "<style scoped>\n",
              "    .dataframe tbody tr th:only-of-type {\n",
              "        vertical-align: middle;\n",
              "    }\n",
              "\n",
              "    .dataframe tbody tr th {\n",
              "        vertical-align: top;\n",
              "    }\n",
              "\n",
              "    .dataframe thead th {\n",
              "        text-align: right;\n",
              "    }\n",
              "</style>\n",
              "<table border=\"1\" class=\"dataframe\">\n",
              "  <thead>\n",
              "    <tr style=\"text-align: right;\">\n",
              "      <th></th>\n",
              "      <th>Class</th>\n",
              "      <th>Title</th>\n",
              "      <th>Description</th>\n",
              "      <th>Text</th>\n",
              "    </tr>\n",
              "  </thead>\n",
              "  <tbody>\n",
              "    <tr>\n",
              "      <th>0</th>\n",
              "      <td>2</td>\n",
              "      <td>Fears for T N pension after talks</td>\n",
              "      <td>Unions representing workers at Turner   Newall...</td>\n",
              "      <td>fears for t n pension after talksunions repres...</td>\n",
              "    </tr>\n",
              "    <tr>\n",
              "      <th>1</th>\n",
              "      <td>3</td>\n",
              "      <td>The Race is On: Second Private Team Sets Launc...</td>\n",
              "      <td>SPACE.com - TORONTO, Canada -- A second\\team o...</td>\n",
              "      <td>the race is on second private team sets launch...</td>\n",
              "    </tr>\n",
              "    <tr>\n",
              "      <th>2</th>\n",
              "      <td>3</td>\n",
              "      <td>Ky. Company Wins Grant to Study Peptides (AP)</td>\n",
              "      <td>AP - A company founded by a chemistry research...</td>\n",
              "      <td>ky company wins grant to study peptides apap  ...</td>\n",
              "    </tr>\n",
              "    <tr>\n",
              "      <th>3</th>\n",
              "      <td>3</td>\n",
              "      <td>Prediction Unit Helps Forecast Wildfires (AP)</td>\n",
              "      <td>AP - It's barely dawn when Mike Fitzpatrick st...</td>\n",
              "      <td>prediction unit helps forecast wildfires apap ...</td>\n",
              "    </tr>\n",
              "    <tr>\n",
              "      <th>4</th>\n",
              "      <td>3</td>\n",
              "      <td>Calif. Aims to Limit Farm-Related Smog (AP)</td>\n",
              "      <td>AP - Southern California's smog-fighting agenc...</td>\n",
              "      <td>calif aims to limit farmrelated smog apap  sou...</td>\n",
              "    </tr>\n",
              "  </tbody>\n",
              "</table>\n",
              "</div>\n",
              "      <button class=\"colab-df-convert\" onclick=\"convertToInteractive('df-3d8f6d69-00d4-4a9a-8042-1f5761a0800d')\"\n",
              "              title=\"Convert this dataframe to an interactive table.\"\n",
              "              style=\"display:none;\">\n",
              "        \n",
              "  <svg xmlns=\"http://www.w3.org/2000/svg\" height=\"24px\"viewBox=\"0 0 24 24\"\n",
              "       width=\"24px\">\n",
              "    <path d=\"M0 0h24v24H0V0z\" fill=\"none\"/>\n",
              "    <path d=\"M18.56 5.44l.94 2.06.94-2.06 2.06-.94-2.06-.94-.94-2.06-.94 2.06-2.06.94zm-11 1L8.5 8.5l.94-2.06 2.06-.94-2.06-.94L8.5 2.5l-.94 2.06-2.06.94zm10 10l.94 2.06.94-2.06 2.06-.94-2.06-.94-.94-2.06-.94 2.06-2.06.94z\"/><path d=\"M17.41 7.96l-1.37-1.37c-.4-.4-.92-.59-1.43-.59-.52 0-1.04.2-1.43.59L10.3 9.45l-7.72 7.72c-.78.78-.78 2.05 0 2.83L4 21.41c.39.39.9.59 1.41.59.51 0 1.02-.2 1.41-.59l7.78-7.78 2.81-2.81c.8-.78.8-2.07 0-2.86zM5.41 20L4 18.59l7.72-7.72 1.47 1.35L5.41 20z\"/>\n",
              "  </svg>\n",
              "      </button>\n",
              "      \n",
              "  <style>\n",
              "    .colab-df-container {\n",
              "      display:flex;\n",
              "      flex-wrap:wrap;\n",
              "      gap: 12px;\n",
              "    }\n",
              "\n",
              "    .colab-df-convert {\n",
              "      background-color: #E8F0FE;\n",
              "      border: none;\n",
              "      border-radius: 50%;\n",
              "      cursor: pointer;\n",
              "      display: none;\n",
              "      fill: #1967D2;\n",
              "      height: 32px;\n",
              "      padding: 0 0 0 0;\n",
              "      width: 32px;\n",
              "    }\n",
              "\n",
              "    .colab-df-convert:hover {\n",
              "      background-color: #E2EBFA;\n",
              "      box-shadow: 0px 1px 2px rgba(60, 64, 67, 0.3), 0px 1px 3px 1px rgba(60, 64, 67, 0.15);\n",
              "      fill: #174EA6;\n",
              "    }\n",
              "\n",
              "    [theme=dark] .colab-df-convert {\n",
              "      background-color: #3B4455;\n",
              "      fill: #D2E3FC;\n",
              "    }\n",
              "\n",
              "    [theme=dark] .colab-df-convert:hover {\n",
              "      background-color: #434B5C;\n",
              "      box-shadow: 0px 1px 3px 1px rgba(0, 0, 0, 0.15);\n",
              "      filter: drop-shadow(0px 1px 2px rgba(0, 0, 0, 0.3));\n",
              "      fill: #FFFFFF;\n",
              "    }\n",
              "  </style>\n",
              "\n",
              "      <script>\n",
              "        const buttonEl =\n",
              "          document.querySelector('#df-3d8f6d69-00d4-4a9a-8042-1f5761a0800d button.colab-df-convert');\n",
              "        buttonEl.style.display =\n",
              "          google.colab.kernel.accessAllowed ? 'block' : 'none';\n",
              "\n",
              "        async function convertToInteractive(key) {\n",
              "          const element = document.querySelector('#df-3d8f6d69-00d4-4a9a-8042-1f5761a0800d');\n",
              "          const dataTable =\n",
              "            await google.colab.kernel.invokeFunction('convertToInteractive',\n",
              "                                                     [key], {});\n",
              "          if (!dataTable) return;\n",
              "\n",
              "          const docLinkHtml = 'Like what you see? Visit the ' +\n",
              "            '<a target=\"_blank\" href=https://colab.research.google.com/notebooks/data_table.ipynb>data table notebook</a>'\n",
              "            + ' to learn more about interactive tables.';\n",
              "          element.innerHTML = '';\n",
              "          dataTable['output_type'] = 'display_data';\n",
              "          await google.colab.output.renderOutput(dataTable, element);\n",
              "          const docLink = document.createElement('div');\n",
              "          docLink.innerHTML = docLinkHtml;\n",
              "          element.appendChild(docLink);\n",
              "        }\n",
              "      </script>\n",
              "    </div>\n",
              "  </div>\n",
              "  "
            ]
          },
          "metadata": {},
          "execution_count": 23
        }
      ]
    },
    {
      "cell_type": "markdown",
      "id": "a651ba97-16f3-47fd-9798-5353586f346d",
      "metadata": {
        "id": "a651ba97-16f3-47fd-9798-5353586f346d"
      },
      "source": [
        "## Pipeline"
      ]
    },
    {
      "cell_type": "code",
      "execution_count": 24,
      "id": "5b021552-fe16-4ce9-b3f4-7ec478c81ec2",
      "metadata": {
        "colab": {
          "base_uri": "https://localhost:8080/"
        },
        "id": "5b021552-fe16-4ce9-b3f4-7ec478c81ec2",
        "outputId": "6c463471-c6a2-4f43-d470-ccafb337a3d9"
      },
      "outputs": [
        {
          "output_type": "execute_result",
          "data": {
            "text/plain": [
              "1    27911\n",
              "0    27871\n",
              "3    27749\n",
              "2    27642\n",
              "Name: Class, dtype: int64"
            ]
          },
          "metadata": {},
          "execution_count": 24
        }
      ],
      "source": [
        "train_df['Class'].value_counts()"
      ]
    },
    {
      "cell_type": "code",
      "source": [
        "val_df['Class'].value_counts()"
      ],
      "metadata": {
        "colab": {
          "base_uri": "https://localhost:8080/"
        },
        "id": "JMOZw2Lc4zy0",
        "outputId": "a41d46f7-dfbc-47ae-83d0-a358fe4f441c"
      },
      "id": "JMOZw2Lc4zy0",
      "execution_count": 25,
      "outputs": [
        {
          "output_type": "execute_result",
          "data": {
            "text/plain": [
              "2    1972\n",
              "1    1923\n",
              "0    1884\n",
              "3    1775\n",
              "Name: Class, dtype: int64"
            ]
          },
          "metadata": {},
          "execution_count": 25
        }
      ]
    },
    {
      "cell_type": "code",
      "source": [
        "test_df['Class'].value_counts()"
      ],
      "metadata": {
        "colab": {
          "base_uri": "https://localhost:8080/"
        },
        "id": "MZiPxEBi421c",
        "outputId": "c6ba12ae-1307-4fd3-e552-55358421806d"
      },
      "id": "MZiPxEBi421c",
      "execution_count": 26,
      "outputs": [
        {
          "output_type": "execute_result",
          "data": {
            "text/plain": [
              "0    1900\n",
              "3    1899\n",
              "1    1899\n",
              "2    1896\n",
              "Name: Class, dtype: int64"
            ]
          },
          "metadata": {},
          "execution_count": 26
        }
      ]
    },
    {
      "cell_type": "code",
      "source": [
        "X_train, y_train = train_df['Text'].tolist(), train_df['Class'].tolist()\n",
        "X_val,   y_val   = val_df['Text'].tolist(),   val_df['Class'].tolist()\n",
        "X_test,  y_test  = test_df['Text'].tolist(),  test_df['Class'].tolist()"
      ],
      "metadata": {
        "id": "2LzuhdpP6T5q"
      },
      "id": "2LzuhdpP6T5q",
      "execution_count": 27,
      "outputs": []
    },
    {
      "cell_type": "code",
      "execution_count": 28,
      "id": "36d1a088-4c8c-4851-b53f-07e3432c3870",
      "metadata": {
        "scrolled": true,
        "tags": [],
        "id": "36d1a088-4c8c-4851-b53f-07e3432c3870"
      },
      "outputs": [],
      "source": [
        "raw_train_ds = tf.data.Dataset.from_tensor_slices((X_train, y_train))\n",
        "raw_val_ds = tf.data.Dataset.from_tensor_slices((X_val, y_val))\n",
        "raw_test_ds = tf.data.Dataset.from_tensor_slices((X_test, y_test))"
      ]
    },
    {
      "cell_type": "code",
      "source": [
        "raw_train_ds"
      ],
      "metadata": {
        "colab": {
          "base_uri": "https://localhost:8080/"
        },
        "id": "nwhOAb1Exs4C",
        "outputId": "afbb4605-a648-485d-f117-59eb24efc9d8"
      },
      "id": "nwhOAb1Exs4C",
      "execution_count": 29,
      "outputs": [
        {
          "output_type": "execute_result",
          "data": {
            "text/plain": [
              "<_TensorSliceDataset element_spec=(TensorSpec(shape=(), dtype=tf.string, name=None), TensorSpec(shape=(), dtype=tf.int32, name=None))>"
            ]
          },
          "metadata": {},
          "execution_count": 29
        }
      ]
    },
    {
      "cell_type": "code",
      "execution_count": 30,
      "id": "52401e10-ade1-4f2a-9de7-036b7ee85556",
      "metadata": {
        "id": "52401e10-ade1-4f2a-9de7-036b7ee85556"
      },
      "outputs": [],
      "source": [
        "vocab_size = 20000\n",
        "\n",
        "vectorize_layer = TextVectorization(\n",
        "    standardize=None,\n",
        "    max_tokens=vocab_size,\n",
        "    output_mode='tf-idf')\n",
        "\n",
        "text_ds = raw_train_ds.map(lambda x, y: x)\n",
        "vectorize_layer.adapt(text_ds)"
      ]
    },
    {
      "cell_type": "code",
      "execution_count": 31,
      "metadata": {
        "tags": [],
        "id": "862068ba-6861-441c-9ee2-dcd71a818bb1"
      },
      "outputs": [],
      "source": [
        "batch_size = 16\n",
        "train_ds = raw_train_ds.shuffle(20000).batch(batch_size)\n",
        "val_ds = raw_val_ds.batch(batch_size)"
      ],
      "id": "862068ba-6861-441c-9ee2-dcd71a818bb1"
    },
    {
      "cell_type": "markdown",
      "id": "938c3502-a5d2-4124-a485-00046a013ed2",
      "metadata": {
        "id": "938c3502-a5d2-4124-a485-00046a013ed2"
      },
      "source": [
        "## Red Neuronal sin Dropout"
      ]
    },
    {
      "cell_type": "markdown",
      "source": [
        "### Modelo"
      ],
      "metadata": {
        "id": "f9DoC3ooMoUZ"
      },
      "id": "f9DoC3ooMoUZ"
    },
    {
      "cell_type": "code",
      "source": [
        "class Linear(tf.keras.layers.Layer):\n",
        "    def __init__(self, num_neurons, activation=None):\n",
        "        super(Linear, self).__init__()\n",
        "        self.num_neurons = num_neurons\n",
        "        self.activation = activation\n",
        "\n",
        "    def build(self, input_shape):\n",
        "        self.kernel = self.add_weight(\"kernel\",\n",
        "                                      shape=[int(input_shape[-1]), self.num_neurons])\n",
        "        self.bias = self.add_weight(\"bias\", shape=[1,self.num_neurons])\n",
        "\n",
        "    def call(self, inputs):\n",
        "        x = tf.matmul(inputs, self.kernel) + self.bias\n",
        "\n",
        "        # Agregar función de activación\n",
        "        if self.activation == 'tanh':\n",
        "            x = tf.math.tanh(x)\n",
        "        elif self.activation == 'relu':\n",
        "            x = tf.nn.relu(x)\n",
        "        elif self.activation == 'softmax':\n",
        "            x = tf.nn.softmax(x)\n",
        "        else:\n",
        "            x = tf.math.sigmoid(x)\n",
        "\n",
        "        return x"
      ],
      "metadata": {
        "id": "xDqUNxjkUguF"
      },
      "id": "xDqUNxjkUguF",
      "execution_count": 32,
      "outputs": []
    },
    {
      "cell_type": "markdown",
      "id": "41d15ef2-a980-4502-9ed4-b540455f7cb5",
      "metadata": {
        "id": "41d15ef2-a980-4502-9ed4-b540455f7cb5"
      },
      "source": [
        "### Entrenamiento"
      ]
    },
    {
      "cell_type": "code",
      "execution_count": null,
      "id": "fc440688-eeec-43ed-85c9-0cf1482e9362",
      "metadata": {
        "tags": [],
        "id": "fc440688-eeec-43ed-85c9-0cf1482e9362"
      },
      "outputs": [],
      "source": [
        "model = Sequential([\n",
        "  vectorize_layer,\n",
        "  Linear(10, activation='relu'),\n",
        "  Linear(4, activation='softmax')\n",
        "])"
      ]
    },
    {
      "cell_type": "code",
      "source": [
        "model.compile(optimizer=tf.keras.optimizers.Adam(learning_rate=1e-3), #0.001\n",
        "              loss=tf.keras.losses.SparseCategoricalCrossentropy(), metrics=['accuracy'])"
      ],
      "metadata": {
        "id": "fWJ1yjnPApPt"
      },
      "id": "fWJ1yjnPApPt",
      "execution_count": null,
      "outputs": []
    },
    {
      "cell_type": "code",
      "source": [
        "model.fit(\n",
        "    x= X_train,\n",
        "    y= y_train,\n",
        "    epochs=2,\n",
        "    batch_size=16,\n",
        "    verbose='auto',\n",
        "    validation_data=(X_val, y_val),\n",
        "    shuffle=True,\n",
        "    class_weight=None,\n",
        "    sample_weight=None,\n",
        "    initial_epoch=0,\n",
        "    steps_per_epoch=None,\n",
        "    validation_steps=None,\n",
        "    validation_batch_size=None,\n",
        "    validation_freq=1,\n",
        "    max_queue_size=10,\n",
        "    workers=1,\n",
        "    use_multiprocessing=False\n",
        ")"
      ],
      "metadata": {
        "id": "94blMILRBS51",
        "colab": {
          "base_uri": "https://localhost:8080/"
        },
        "outputId": "25230c47-d15b-421c-b52b-c3ce519e9bd8"
      },
      "id": "94blMILRBS51",
      "execution_count": null,
      "outputs": [
        {
          "output_type": "stream",
          "name": "stdout",
          "text": [
            "Epoch 1/2\n",
            "6949/6949 [==============================] - 39s 5ms/step - loss: 0.3079 - accuracy: 0.8975 - val_loss: 0.2740 - val_accuracy: 0.9014\n",
            "Epoch 2/2\n",
            "6949/6949 [==============================] - 37s 5ms/step - loss: 0.1683 - accuracy: 0.9409 - val_loss: 0.2960 - val_accuracy: 0.8995\n"
          ]
        },
        {
          "output_type": "execute_result",
          "data": {
            "text/plain": [
              "<keras.callbacks.History at 0x7fa67afd18a0>"
            ]
          },
          "metadata": {},
          "execution_count": 51
        }
      ]
    },
    {
      "cell_type": "code",
      "source": [
        "model.evaluate(\n",
        "    x=X_test,\n",
        "    y=y_test,\n",
        "    batch_size=None,\n",
        "    verbose='auto',\n",
        "    sample_weight=None,\n",
        "    steps=None,\n",
        "    callbacks=None,\n",
        "    max_queue_size=10,\n",
        "    workers=1,\n",
        "    use_multiprocessing=False,\n",
        "    return_dict=False,\n",
        ")"
      ],
      "metadata": {
        "colab": {
          "base_uri": "https://localhost:8080/"
        },
        "id": "AFO1oFY84iqT",
        "outputId": "ac59b52e-9cdc-49c6-f9aa-9e1babe83be4"
      },
      "id": "AFO1oFY84iqT",
      "execution_count": null,
      "outputs": [
        {
          "output_type": "stream",
          "name": "stdout",
          "text": [
            "238/238 [==============================] - 1s 4ms/step - loss: 0.2810 - accuracy: 0.9106\n"
          ]
        },
        {
          "output_type": "execute_result",
          "data": {
            "text/plain": [
              "[0.28104352951049805, 0.9105873107910156]"
            ]
          },
          "metadata": {},
          "execution_count": 52
        }
      ]
    },
    {
      "cell_type": "code",
      "source": [
        "class_names = [\"Internacional\", \"Deportes\", \"Negocios\", \"Ciencia\"]\n",
        "class estimator:\n",
        "  _estimator_type = ''\n",
        "  classes_=[]\n",
        "  def __init__(self, model, classes):\n",
        "    self.model = model\n",
        "    self._estimator_type = 'classifier'\n",
        "    self.classes_ = classes\n",
        "  def predict(self, X):\n",
        "    y_prob= self.model.predict(X)\n",
        "    y_pred = y_prob.argmax(axis=1)\n",
        "    return y_pred"
      ],
      "metadata": {
        "id": "9S6_QgHfgOxg"
      },
      "id": "9S6_QgHfgOxg",
      "execution_count": 54,
      "outputs": []
    },
    {
      "cell_type": "code",
      "source": [
        "classifier = estimator(model, class_names)\n",
        "\n",
        "display = ConfusionMatrixDisplay.from_estimator(\n",
        "        classifier,\n",
        "        X_test,\n",
        "        y_test,\n",
        "        display_labels=class_names,\n",
        "        cmap=plot.cm.Blues\n",
        ")"
      ],
      "metadata": {
        "colab": {
          "base_uri": "https://localhost:8080/",
          "height": 467
        },
        "id": "DlI-LKwmj-dN",
        "outputId": "c8557e8b-25c2-4fd6-d53c-f029d89c6e33"
      },
      "id": "DlI-LKwmj-dN",
      "execution_count": null,
      "outputs": [
        {
          "output_type": "stream",
          "name": "stdout",
          "text": [
            "238/238 [==============================] - 1s 3ms/step\n"
          ]
        },
        {
          "output_type": "display_data",
          "data": {
            "text/plain": [
              "<Figure size 640x480 with 2 Axes>"
            ],
            "image/png": "[encoded data removed]"
          },
          "metadata": {}
        }
      ]
    },
    {
      "cell_type": "code",
      "source": [
        "y_pred = classifier.predict(X_test)\n",
        "print(classification_report(y_pred,y_test,target_names=class_names  ))"
      ],
      "metadata": {
        "id": "WPSIR4eYk18e",
        "colab": {
          "base_uri": "https://localhost:8080/"
        },
        "outputId": "97c22abc-58f8-4e6d-d847-2bf46f6f6724"
      },
      "id": "WPSIR4eYk18e",
      "execution_count": null,
      "outputs": [
        {
          "output_type": "stream",
          "name": "stdout",
          "text": [
            "238/238 [==============================] - 1s 3ms/step\n",
            "               precision    recall  f1-score   support\n",
            "\n",
            "Internacional       0.90      0.94      0.92      1810\n",
            "     Deportes       0.98      0.95      0.96      1945\n",
            "     Negocios       0.88      0.87      0.87      1921\n",
            "      Ciencia       0.89      0.88      0.89      1918\n",
            "\n",
            "     accuracy                           0.91      7594\n",
            "    macro avg       0.91      0.91      0.91      7594\n",
            " weighted avg       0.91      0.91      0.91      7594\n",
            "\n"
          ]
        }
      ]
    },
    {
      "cell_type": "markdown",
      "source": [
        "## Red Neuronal con Dropout"
      ],
      "metadata": {
        "id": "8MjdCkU1M3Hc"
      },
      "id": "8MjdCkU1M3Hc"
    },
    {
      "cell_type": "markdown",
      "source": [
        "- Se utiliza el mismo modelo que en la red neuronal sin Dropout."
      ],
      "metadata": {
        "id": "FE6oCvWEPr9d"
      },
      "id": "FE6oCvWEPr9d"
    },
    {
      "cell_type": "markdown",
      "source": [
        "### Entrenamiento"
      ],
      "metadata": {
        "id": "A4EC5v0UNTQ9"
      },
      "id": "A4EC5v0UNTQ9"
    },
    {
      "cell_type": "code",
      "execution_count": null,
      "metadata": {
        "tags": [],
        "id": "dThQkTdONela"
      },
      "outputs": [],
      "source": [
        "modelD = Sequential([\n",
        "  vectorize_layer,\n",
        "  Linear(40, activation='relu'),\n",
        "  layers.Dropout(0.3),\n",
        "  Linear(4, activation='softmax')\n",
        "])"
      ],
      "id": "dThQkTdONela"
    },
    {
      "cell_type": "code",
      "source": [
        "modelD.compile(optimizer=tf.keras.optimizers.Adam(learning_rate=1e-3), #0.001\n",
        "              loss=tf.keras.losses.SparseCategoricalCrossentropy(), metrics=['accuracy'])"
      ],
      "metadata": {
        "id": "pLFRIm7cNelb"
      },
      "execution_count": null,
      "outputs": [],
      "id": "pLFRIm7cNelb"
    },
    {
      "cell_type": "code",
      "source": [
        "modelD.fit(\n",
        "    x= X_train,\n",
        "    y= y_train,\n",
        "    epochs=2,\n",
        "    batch_size=32,\n",
        "    verbose='auto',\n",
        "    validation_data=(X_val, y_val),\n",
        "    shuffle=True,\n",
        "    class_weight=None,\n",
        "    sample_weight=None,\n",
        "    initial_epoch=0,\n",
        "    steps_per_epoch=None,\n",
        "    validation_steps=None,\n",
        "    validation_batch_size=None,\n",
        "    validation_freq=1,\n",
        "    max_queue_size=10,\n",
        "    workers=1,\n",
        "    use_multiprocessing=False\n",
        ")"
      ],
      "metadata": {
        "colab": {
          "base_uri": "https://localhost:8080/"
        },
        "outputId": "b1cc3e8f-d03a-4437-ece7-ee28ec578437",
        "id": "4mBto_ASNeld"
      },
      "execution_count": null,
      "outputs": [
        {
          "output_type": "stream",
          "name": "stdout",
          "text": [
            "Epoch 1/2\n",
            "3475/3475 [==============================] - 22s 6ms/step - loss: 0.3323 - accuracy: 0.8928 - val_loss: 0.2737 - val_accuracy: 0.9068\n",
            "Epoch 2/2\n",
            "3475/3475 [==============================] - 25s 7ms/step - loss: 0.1869 - accuracy: 0.9358 - val_loss: 0.2896 - val_accuracy: 0.9022\n"
          ]
        },
        {
          "output_type": "execute_result",
          "data": {
            "text/plain": [
              "<keras.callbacks.History at 0x7fa67b1c20e0>"
            ]
          },
          "metadata": {},
          "execution_count": 47
        }
      ],
      "id": "4mBto_ASNeld"
    },
    {
      "cell_type": "code",
      "source": [
        "modelD.evaluate(\n",
        "    x=X_test,\n",
        "    y=y_test,\n",
        "    batch_size=None,\n",
        "    verbose='auto',\n",
        "    sample_weight=None,\n",
        "    steps=None,\n",
        "    callbacks=None,\n",
        "    max_queue_size=10,\n",
        "    workers=1,\n",
        "    use_multiprocessing=False,\n",
        "    return_dict=False,\n",
        ")"
      ],
      "metadata": {
        "colab": {
          "base_uri": "https://localhost:8080/"
        },
        "outputId": "b39425e1-fff6-402e-c37c-29645ce7484b",
        "id": "m-H133LFNele"
      },
      "execution_count": null,
      "outputs": [
        {
          "output_type": "stream",
          "name": "stdout",
          "text": [
            "238/238 [==============================] - 1s 4ms/step - loss: 0.2734 - accuracy: 0.9168\n"
          ]
        },
        {
          "output_type": "execute_result",
          "data": {
            "text/plain": [
              "[0.2734418511390686, 0.9167764186859131]"
            ]
          },
          "metadata": {},
          "execution_count": 48
        }
      ],
      "id": "m-H133LFNele"
    },
    {
      "cell_type": "code",
      "source": [
        "classifierD = estimator(modelD, class_names)\n",
        "\n",
        "displayD = ConfusionMatrixDisplay.from_estimator(\n",
        "        classifierD,\n",
        "        X_test,\n",
        "        y_test,\n",
        "        display_labels=class_names,\n",
        "        cmap=plot.cm.Blues\n",
        ")"
      ],
      "metadata": {
        "colab": {
          "base_uri": "https://localhost:8080/",
          "height": 467
        },
        "outputId": "c5273ce2-93cc-4032-aa18-df5fc5b556e7",
        "id": "GnLTsOCDNele"
      },
      "execution_count": null,
      "outputs": [
        {
          "output_type": "stream",
          "name": "stdout",
          "text": [
            "238/238 [==============================] - 1s 3ms/step\n"
          ]
        },
        {
          "output_type": "display_data",
          "data": {
            "text/plain": [
              "<Figure size 640x480 with 2 Axes>"
            ],
            "image/png": "[encoded data removed]"
          },
          "metadata": {}
        }
      ],
      "id": "GnLTsOCDNele"
    },
    {
      "cell_type": "code",
      "source": [
        "y_predD = classifierD.predict(X_test)\n",
        "print(classification_report(y_predD,y_test,target_names=class_names  ))"
      ],
      "metadata": {
        "colab": {
          "base_uri": "https://localhost:8080/"
        },
        "outputId": "f1122cb0-70a2-489b-e0a9-73c131377492",
        "id": "ez-Lh22PNelf"
      },
      "execution_count": null,
      "outputs": [
        {
          "output_type": "stream",
          "name": "stdout",
          "text": [
            "238/238 [==============================] - 1s 5ms/step\n",
            "               precision    recall  f1-score   support\n",
            "\n",
            "Internacional       0.91      0.94      0.92      1838\n",
            "     Deportes       0.98      0.96      0.97      1930\n",
            "     Negocios       0.86      0.90      0.88      1815\n",
            "      Ciencia       0.92      0.87      0.89      2011\n",
            "\n",
            "     accuracy                           0.92      7594\n",
            "    macro avg       0.92      0.92      0.92      7594\n",
            " weighted avg       0.92      0.92      0.92      7594\n",
            "\n"
          ]
        }
      ],
      "id": "ez-Lh22PNelf"
    },
    {
      "cell_type": "markdown",
      "source": [
        "## Naive Bayes"
      ],
      "metadata": {
        "id": "DZV6Ddlh1zE6"
      },
      "id": "DZV6Ddlh1zE6"
    },
    {
      "cell_type": "markdown",
      "source": [
        "### TF-IDF sin stop words y con lematización"
      ],
      "metadata": {
        "id": "I6qS9Rx0CDha"
      },
      "id": "I6qS9Rx0CDha"
    },
    {
      "cell_type": "markdown",
      "source": [
        "- Unir datos de entrenamiento y prueba"
      ],
      "metadata": {
        "id": "_FzkLzyPEpOQ"
      },
      "id": "_FzkLzyPEpOQ"
    },
    {
      "cell_type": "code",
      "source": [
        "df_aux = pd.concat([train_df, test_df], axis=0)"
      ],
      "metadata": {
        "id": "5E3MG0VfEmNn"
      },
      "id": "5E3MG0VfEmNn",
      "execution_count": null,
      "outputs": []
    },
    {
      "cell_type": "markdown",
      "source": [
        "- Lematización"
      ],
      "metadata": {
        "id": "SEiX0UWUFS-Y"
      },
      "id": "SEiX0UWUFS-Y"
    },
    {
      "cell_type": "code",
      "source": [
        "import nltk\n",
        "nltk.download('punkt')\n",
        "from nltk.stem import WordNetLemmatizer\n",
        "from nltk.tokenize import word_tokenize\n",
        "nltk.download('wordnet')\n",
        "from nltk.corpus import stopwords\n",
        "\n",
        "lemmatizer = WordNetLemmatizer()\n",
        "nltk.download('stopwords')\n",
        "stop_words = set(stopwords.words('english'))\n",
        "\n",
        "def lemmatize_words(text):  #funcion obtenida con chatgpt\n",
        "    words = word_tokenize(text)\n",
        "    lemmatized_words = [lemmatizer.lemmatize(word, pos='v') for word in words]\n",
        "    filter_words = [word for word in lemmatized_words if word not in stop_words]\n",
        "    return ' '.join(filter_words)\n",
        "\n",
        "df_aux['lem_text'] = df_aux['Text'].apply(lemmatize_words)\n",
        "df_aux.head()"
      ],
      "metadata": {
        "colab": {
          "base_uri": "https://localhost:8080/",
          "height": 426
        },
        "id": "E-uMGhiP5ffh",
        "outputId": "6b625ff0-7904-4e4e-9180-309c378807d1"
      },
      "id": "E-uMGhiP5ffh",
      "execution_count": null,
      "outputs": [
        {
          "output_type": "stream",
          "name": "stderr",
          "text": [
            "[nltk_data] Downloading package punkt to /root/nltk_data...\n",
            "[nltk_data]   Unzipping tokenizers/punkt.zip.\n",
            "[nltk_data] Downloading package wordnet to /root/nltk_data...\n",
            "[nltk_data] Downloading package stopwords to /root/nltk_data...\n",
            "[nltk_data]   Unzipping corpora/stopwords.zip.\n"
          ]
        },
        {
          "output_type": "execute_result",
          "data": {
            "text/plain": [
              "   Class                                              Title  \\\n",
              "0      2  Wall St. Bears Claw Back Into the Black (Reuters)   \n",
              "1      2  Carlyle Looks Toward Commercial Aerospace (Reu...   \n",
              "2      2    Oil and Economy Cloud Stocks' Outlook (Reuters)   \n",
              "3      2  Iraq Halts Oil Exports from Main Southern Pipe...   \n",
              "4      2  Oil prices soar to all-time record, posing new...   \n",
              "\n",
              "                                         Description  \\\n",
              "0  Reuters - Short-sellers, Wall Street's dwindli...   \n",
              "1  Reuters - Private investment firm Carlyle Grou...   \n",
              "2  Reuters - Soaring crude prices plus worries\\ab...   \n",
              "3  Reuters - Authorities have halted oil export\\f...   \n",
              "4  AFP - Tearaway world oil prices, toppling reco...   \n",
              "\n",
              "                                                Text  \\\n",
              "0  wall st bears claw back into the black reuters...   \n",
              "1  carlyle looks toward commercial aerospace reut...   \n",
              "2  oil and economy cloud stocks outlook reutersre...   \n",
              "3  iraq halts oil exports from main southern pipe...   \n",
              "4  oil prices soar to alltime record posing new m...   \n",
              "\n",
              "                                            lem_text  \n",
              "0  wall st bear claw back black reutersreuters sh...  \n",
              "1  carlyle look toward commercial aerospace reute...  \n",
              "2  oil economy cloud stock outlook reutersreuters...  \n",
              "3  iraq halt oil export main southern pipeline re...  \n",
              "4  oil price soar alltime record pose new menace ...  "
            ],
            "text/html": [
              "\n",
              "  <div id=\"df-4d9a9849-7b08-4ab5-bc13-ca99fb0573f4\">\n",
              "    <div class=\"colab-df-container\">\n",
              "      <div>\n",
              "<style scoped>\n",
              "    .dataframe tbody tr th:only-of-type {\n",
              "        vertical-align: middle;\n",
              "    }\n",
              "\n",
              "    .dataframe tbody tr th {\n",
              "        vertical-align: top;\n",
              "    }\n",
              "\n",
              "    .dataframe thead th {\n",
              "        text-align: right;\n",
              "    }\n",
              "</style>\n",
              "<table border=\"1\" class=\"dataframe\">\n",
              "  <thead>\n",
              "    <tr style=\"text-align: right;\">\n",
              "      <th></th>\n",
              "      <th>Class</th>\n",
              "      <th>Title</th>\n",
              "      <th>Description</th>\n",
              "      <th>Text</th>\n",
              "      <th>lem_text</th>\n",
              "    </tr>\n",
              "  </thead>\n",
              "  <tbody>\n",
              "    <tr>\n",
              "      <th>0</th>\n",
              "      <td>2</td>\n",
              "      <td>Wall St. Bears Claw Back Into the Black (Reuters)</td>\n",
              "      <td>Reuters - Short-sellers, Wall Street's dwindli...</td>\n",
              "      <td>wall st bears claw back into the black reuters...</td>\n",
              "      <td>wall st bear claw back black reutersreuters sh...</td>\n",
              "    </tr>\n",
              "    <tr>\n",
              "      <th>1</th>\n",
              "      <td>2</td>\n",
              "      <td>Carlyle Looks Toward Commercial Aerospace (Reu...</td>\n",
              "      <td>Reuters - Private investment firm Carlyle Grou...</td>\n",
              "      <td>carlyle looks toward commercial aerospace reut...</td>\n",
              "      <td>carlyle look toward commercial aerospace reute...</td>\n",
              "    </tr>\n",
              "    <tr>\n",
              "      <th>2</th>\n",
              "      <td>2</td>\n",
              "      <td>Oil and Economy Cloud Stocks' Outlook (Reuters)</td>\n",
              "      <td>Reuters - Soaring crude prices plus worries\\ab...</td>\n",
              "      <td>oil and economy cloud stocks outlook reutersre...</td>\n",
              "      <td>oil economy cloud stock outlook reutersreuters...</td>\n",
              "    </tr>\n",
              "    <tr>\n",
              "      <th>3</th>\n",
              "      <td>2</td>\n",
              "      <td>Iraq Halts Oil Exports from Main Southern Pipe...</td>\n",
              "      <td>Reuters - Authorities have halted oil export\\f...</td>\n",
              "      <td>iraq halts oil exports from main southern pipe...</td>\n",
              "      <td>iraq halt oil export main southern pipeline re...</td>\n",
              "    </tr>\n",
              "    <tr>\n",
              "      <th>4</th>\n",
              "      <td>2</td>\n",
              "      <td>Oil prices soar to all-time record, posing new...</td>\n",
              "      <td>AFP - Tearaway world oil prices, toppling reco...</td>\n",
              "      <td>oil prices soar to alltime record posing new m...</td>\n",
              "      <td>oil price soar alltime record pose new menace ...</td>\n",
              "    </tr>\n",
              "  </tbody>\n",
              "</table>\n",
              "</div>\n",
              "      <button class=\"colab-df-convert\" onclick=\"convertToInteractive('df-4d9a9849-7b08-4ab5-bc13-ca99fb0573f4')\"\n",
              "              title=\"Convert this dataframe to an interactive table.\"\n",
              "              style=\"display:none;\">\n",
              "        \n",
              "  <svg xmlns=\"http://www.w3.org/2000/svg\" height=\"24px\"viewBox=\"0 0 24 24\"\n",
              "       width=\"24px\">\n",
              "    <path d=\"M0 0h24v24H0V0z\" fill=\"none\"/>\n",
              "    <path d=\"M18.56 5.44l.94 2.06.94-2.06 2.06-.94-2.06-.94-.94-2.06-.94 2.06-2.06.94zm-11 1L8.5 8.5l.94-2.06 2.06-.94-2.06-.94L8.5 2.5l-.94 2.06-2.06.94zm10 10l.94 2.06.94-2.06 2.06-.94-2.06-.94-.94-2.06-.94 2.06-2.06.94z\"/><path d=\"M17.41 7.96l-1.37-1.37c-.4-.4-.92-.59-1.43-.59-.52 0-1.04.2-1.43.59L10.3 9.45l-7.72 7.72c-.78.78-.78 2.05 0 2.83L4 21.41c.39.39.9.59 1.41.59.51 0 1.02-.2 1.41-.59l7.78-7.78 2.81-2.81c.8-.78.8-2.07 0-2.86zM5.41 20L4 18.59l7.72-7.72 1.47 1.35L5.41 20z\"/>\n",
              "  </svg>\n",
              "      </button>\n",
              "      \n",
              "  <style>\n",
              "    .colab-df-container {\n",
              "      display:flex;\n",
              "      flex-wrap:wrap;\n",
              "      gap: 12px;\n",
              "    }\n",
              "\n",
              "    .colab-df-convert {\n",
              "      background-color: #E8F0FE;\n",
              "      border: none;\n",
              "      border-radius: 50%;\n",
              "      cursor: pointer;\n",
              "      display: none;\n",
              "      fill: #1967D2;\n",
              "      height: 32px;\n",
              "      padding: 0 0 0 0;\n",
              "      width: 32px;\n",
              "    }\n",
              "\n",
              "    .colab-df-convert:hover {\n",
              "      background-color: #E2EBFA;\n",
              "      box-shadow: 0px 1px 2px rgba(60, 64, 67, 0.3), 0px 1px 3px 1px rgba(60, 64, 67, 0.15);\n",
              "      fill: #174EA6;\n",
              "    }\n",
              "\n",
              "    [theme=dark] .colab-df-convert {\n",
              "      background-color: #3B4455;\n",
              "      fill: #D2E3FC;\n",
              "    }\n",
              "\n",
              "    [theme=dark] .colab-df-convert:hover {\n",
              "      background-color: #434B5C;\n",
              "      box-shadow: 0px 1px 3px 1px rgba(0, 0, 0, 0.15);\n",
              "      filter: drop-shadow(0px 1px 2px rgba(0, 0, 0, 0.3));\n",
              "      fill: #FFFFFF;\n",
              "    }\n",
              "  </style>\n",
              "\n",
              "      <script>\n",
              "        const buttonEl =\n",
              "          document.querySelector('#df-4d9a9849-7b08-4ab5-bc13-ca99fb0573f4 button.colab-df-convert');\n",
              "        buttonEl.style.display =\n",
              "          google.colab.kernel.accessAllowed ? 'block' : 'none';\n",
              "\n",
              "        async function convertToInteractive(key) {\n",
              "          const element = document.querySelector('#df-4d9a9849-7b08-4ab5-bc13-ca99fb0573f4');\n",
              "          const dataTable =\n",
              "            await google.colab.kernel.invokeFunction('convertToInteractive',\n",
              "                                                     [key], {});\n",
              "          if (!dataTable) return;\n",
              "\n",
              "          const docLinkHtml = 'Like what you see? Visit the ' +\n",
              "            '<a target=\"_blank\" href=https://colab.research.google.com/notebooks/data_table.ipynb>data table notebook</a>'\n",
              "            + ' to learn more about interactive tables.';\n",
              "          element.innerHTML = '';\n",
              "          dataTable['output_type'] = 'display_data';\n",
              "          await google.colab.output.renderOutput(dataTable, element);\n",
              "          const docLink = document.createElement('div');\n",
              "          docLink.innerHTML = docLinkHtml;\n",
              "          element.appendChild(docLink);\n",
              "        }\n",
              "      </script>\n",
              "    </div>\n",
              "  </div>\n",
              "  "
            ]
          },
          "metadata": {},
          "execution_count": 30
        }
      ]
    },
    {
      "cell_type": "markdown",
      "source": [
        "### Entrenamiento"
      ],
      "metadata": {
        "id": "gvlhIiSnCq00"
      },
      "id": "gvlhIiSnCq00"
    },
    {
      "cell_type": "markdown",
      "source": [
        "- Librerias"
      ],
      "metadata": {
        "id": "VOk1mmY3FXqc"
      },
      "id": "VOk1mmY3FXqc"
    },
    {
      "cell_type": "code",
      "source": [
        "from sklearn.model_selection import train_test_split\n",
        "from sklearn.feature_extraction.text import CountVectorizer\n",
        "from sklearn.feature_extraction.text import TfidfVectorizer\n",
        "import time\n",
        "from sklearn.naive_bayes import MultinomialNB\n",
        "from sklearn.tree import DecisionTreeClassifier\n",
        "from sklearn.svm import SVC\n",
        "from sklearn.neighbors import KNeighborsClassifier\n",
        "from sklearn.ensemble import RandomForestClassifier\n",
        "from sklearn.metrics import classification_report\n",
        "from sklearn.metrics import confusion_matrix\n",
        "from sklearn.metrics import ConfusionMatrixDisplay\n",
        "import matplotlib.pyplot as plt"
      ],
      "metadata": {
        "id": "WHEMqusOBaTc"
      },
      "id": "WHEMqusOBaTc",
      "execution_count": null,
      "outputs": []
    },
    {
      "cell_type": "markdown",
      "source": [
        "- División de datos"
      ],
      "metadata": {
        "id": "Nwk0jLfeFalF"
      },
      "id": "Nwk0jLfeFalF"
    },
    {
      "cell_type": "code",
      "source": [
        "X = df_aux['lem_text'].values\n",
        "y = df_aux['Class'].values\n",
        "\n",
        "X_train, X_test, y_train, y_test = train_test_split(X,y, test_size = 0.25, random_state = 123)\n",
        "\n",
        "tfidf = TfidfVectorizer()\n",
        "X_train_tfidf = tfidf.fit_transform(X_train)\n",
        "X_test_tfidf = tfidf.transform(X_test)"
      ],
      "metadata": {
        "id": "2ObhJkWmDoHJ"
      },
      "id": "2ObhJkWmDoHJ",
      "execution_count": null,
      "outputs": []
    },
    {
      "cell_type": "code",
      "source": [
        "bayes_pred = MultinomialNB()\n",
        "\n",
        "start = time.time()\n",
        "bayes_pred.fit(X_train_tfidf, y_train)\n",
        "print(\"Tiempo de entrenamiento: \",time.time()-start)"
      ],
      "metadata": {
        "colab": {
          "base_uri": "https://localhost:8080/"
        },
        "id": "o6bKt8EhDFcD",
        "outputId": "2751cfab-ce6f-42dd-9597-555879b3277f"
      },
      "id": "o6bKt8EhDFcD",
      "execution_count": null,
      "outputs": [
        {
          "output_type": "stream",
          "name": "stdout",
          "text": [
            "Tiempo de entrenamiento:  0.17600083351135254\n"
          ]
        }
      ]
    },
    {
      "cell_type": "code",
      "source": [
        "start = time.time()\n",
        "predictions = bayes_pred.predict(X_test_tfidf)\n",
        "print(\"Tiempo de prediccción: \",time.time()-start)"
      ],
      "metadata": {
        "colab": {
          "base_uri": "https://localhost:8080/"
        },
        "id": "voF9FJ08CaEl",
        "outputId": "5742cfc7-6794-4fc3-9a49-e00be178dcee"
      },
      "id": "voF9FJ08CaEl",
      "execution_count": null,
      "outputs": [
        {
          "output_type": "stream",
          "name": "stdout",
          "text": [
            "Tiempo de prediccción:  0.033562660217285156\n"
          ]
        }
      ]
    },
    {
      "cell_type": "code",
      "source": [
        "print(classification_report(y_test, predictions))"
      ],
      "metadata": {
        "colab": {
          "base_uri": "https://localhost:8080/"
        },
        "id": "SiZYOKhVDL-W",
        "outputId": "7321d585-7e47-47e4-cf78-e872e0c5bc55"
      },
      "id": "SiZYOKhVDL-W",
      "execution_count": null,
      "outputs": [
        {
          "output_type": "stream",
          "name": "stdout",
          "text": [
            "              precision    recall  f1-score   support\n",
            "\n",
            "           0       0.91      0.90      0.90      7448\n",
            "           1       0.95      0.98      0.96      7445\n",
            "           2       0.87      0.87      0.87      7457\n",
            "           3       0.89      0.87      0.88      7342\n",
            "\n",
            "    accuracy                           0.91     29692\n",
            "   macro avg       0.90      0.91      0.90     29692\n",
            "weighted avg       0.90      0.91      0.90     29692\n",
            "\n"
          ]
        }
      ]
    },
    {
      "cell_type": "code",
      "source": [
        "cm = confusion_matrix(y_test, predictions)\n",
        "\n",
        "# plot the confusion matrix\n",
        "disp = ConfusionMatrixDisplay(cm, display_labels=np.unique(y_test))\n",
        "disp.plot()\n",
        "plt.show()"
      ],
      "metadata": {
        "colab": {
          "base_uri": "https://localhost:8080/",
          "height": 449
        },
        "id": "Y8Nlt-FcDOH2",
        "outputId": "af81d28a-99f0-4506-cc33-2610beeefb51"
      },
      "id": "Y8Nlt-FcDOH2",
      "execution_count": null,
      "outputs": [
        {
          "output_type": "display_data",
          "data": {
            "text/plain": [
              "<Figure size 640x480 with 2 Axes>"
            ],
            "image/png": "[encoded data removed]"
          },
          "metadata": {}
        }
      ]
    },
    {
      "cell_type": "markdown",
      "source": [
        "## Árbol de Decisión"
      ],
      "metadata": {
        "id": "TZuLew5rHYUS"
      },
      "id": "TZuLew5rHYUS"
    },
    {
      "cell_type": "markdown",
      "source": [
        "### Entrenamiento"
      ],
      "metadata": {
        "id": "AvaO6IB5HezS"
      },
      "id": "AvaO6IB5HezS"
    },
    {
      "cell_type": "code",
      "source": [
        "ClasificacionAD = DecisionTreeClassifier(criterion='gini',random_state=0)\n",
        "\n",
        "start = time.time()\n",
        "ClasificacionAD.fit(X_train_tfidf, y_train)\n",
        "print(\"Tiempo de entrenamiento: \", time.time()-start)"
      ],
      "metadata": {
        "colab": {
          "base_uri": "https://localhost:8080/"
        },
        "id": "kZvrxfOsHiql",
        "outputId": "7ae8e8f8-15a7-4233-ef61-7384d6546d3b"
      },
      "id": "kZvrxfOsHiql",
      "execution_count": null,
      "outputs": [
        {
          "output_type": "stream",
          "name": "stdout",
          "text": [
            "Tiempo de entrenamiento:  87.41685009002686\n"
          ]
        }
      ]
    },
    {
      "cell_type": "code",
      "source": [
        "start = time.time()\n",
        "Y_ClasificacionAD = ClasificacionAD.predict(X_test_tfidf)\n",
        "print(\"Tiempo de predicción: \", time.time()-start)"
      ],
      "metadata": {
        "colab": {
          "base_uri": "https://localhost:8080/"
        },
        "id": "Io137THOHnvr",
        "outputId": "34fe6a09-248f-4aed-de5e-f91b75d91e2b"
      },
      "id": "Io137THOHnvr",
      "execution_count": null,
      "outputs": [
        {
          "output_type": "stream",
          "name": "stdout",
          "text": [
            "Tiempo de predicción:  0.054976701736450195\n"
          ]
        }
      ]
    },
    {
      "cell_type": "code",
      "source": [
        "print(classification_report(y_test, Y_ClasificacionAD))"
      ],
      "metadata": {
        "colab": {
          "base_uri": "https://localhost:8080/"
        },
        "id": "bbBEauaJHpVn",
        "outputId": "ffa786aa-a4bf-4ef9-c747-c7154b76d2e0"
      },
      "id": "bbBEauaJHpVn",
      "execution_count": null,
      "outputs": [
        {
          "output_type": "stream",
          "name": "stdout",
          "text": [
            "              precision    recall  f1-score   support\n",
            "\n",
            "           0       0.80      0.80      0.80      7448\n",
            "           1       0.85      0.87      0.86      7445\n",
            "           2       0.75      0.75      0.75      7457\n",
            "           3       0.75      0.73      0.74      7342\n",
            "\n",
            "    accuracy                           0.79     29692\n",
            "   macro avg       0.79      0.79      0.79     29692\n",
            "weighted avg       0.79      0.79      0.79     29692\n",
            "\n"
          ]
        }
      ]
    },
    {
      "cell_type": "code",
      "source": [
        "cm = confusion_matrix(y_test, Y_ClasificacionAD)\n",
        "\n",
        "# plot the confusion matrix\n",
        "disp = ConfusionMatrixDisplay(cm, display_labels=np.unique(Y_ClasificacionAD))\n",
        "disp.plot()\n",
        "plt.show()"
      ],
      "metadata": {
        "colab": {
          "base_uri": "https://localhost:8080/",
          "height": 449
        },
        "id": "sHLL61SGHr_z",
        "outputId": "82be9561-1de5-42f9-8fea-3986d42e047c"
      },
      "id": "sHLL61SGHr_z",
      "execution_count": null,
      "outputs": [
        {
          "output_type": "display_data",
          "data": {
            "text/plain": [
              "<Figure size 640x480 with 2 Axes>"
            ],
            "image/png": "[encoded data removed]"
          },
          "metadata": {}
        }
      ]
    },
    {
      "cell_type": "markdown",
      "source": [
        "## Support Vector Machines"
      ],
      "metadata": {
        "id": "SM964G0FJb8w"
      },
      "id": "SM964G0FJb8w"
    },
    {
      "cell_type": "markdown",
      "source": [
        "### Entrenamiento"
      ],
      "metadata": {
        "id": "rMWVzo_OJmRB"
      },
      "id": "rMWVzo_OJmRB"
    },
    {
      "cell_type": "code",
      "source": [
        "ModeloSVM_1 = SVC(kernel='linear')\n",
        "\n",
        "start = time.time()\n",
        "ModeloSVM_1.fit(X_train_tfidf, y_train)\n",
        "print(\"Tiempo de entrenamiento: \",time.time()-start)"
      ],
      "metadata": {
        "colab": {
          "base_uri": "https://localhost:8080/"
        },
        "id": "EZYAs8z_Jpg5",
        "outputId": "f9375a18-8fe7-4865-830c-e7077c58ad3f"
      },
      "id": "EZYAs8z_Jpg5",
      "execution_count": null,
      "outputs": [
        {
          "output_type": "stream",
          "name": "stdout",
          "text": [
            "Tiempo de entrenamiento:  1541.8182644844055\n"
          ]
        }
      ]
    },
    {
      "cell_type": "code",
      "source": [
        "start = time.time()\n",
        "Clasificaciones_1 = ModeloSVM_1.predict(X_test_tfidf)\n",
        "print(\"Tiempo de predicción: \",time.time()-start)"
      ],
      "metadata": {
        "colab": {
          "base_uri": "https://localhost:8080/"
        },
        "id": "aLo_88FWKqXp",
        "outputId": "2d1c16f1-7be0-4237-83e6-fe72f3badc1e"
      },
      "id": "aLo_88FWKqXp",
      "execution_count": null,
      "outputs": [
        {
          "output_type": "stream",
          "name": "stdout",
          "text": [
            "Tiempo de predicción:  202.22921657562256\n"
          ]
        }
      ]
    },
    {
      "cell_type": "code",
      "source": [
        "print(classification_report(y_test, Clasificaciones_1))"
      ],
      "metadata": {
        "colab": {
          "base_uri": "https://localhost:8080/"
        },
        "id": "UeQ8lXgNKx54",
        "outputId": "62a09226-212c-4b1c-98b0-9b475c6eca9b"
      },
      "id": "UeQ8lXgNKx54",
      "execution_count": null,
      "outputs": [
        {
          "output_type": "stream",
          "name": "stdout",
          "text": [
            "              precision    recall  f1-score   support\n",
            "\n",
            "           0       0.93      0.90      0.92      7448\n",
            "           1       0.96      0.98      0.97      7445\n",
            "           2       0.89      0.89      0.89      7457\n",
            "           3       0.89      0.90      0.90      7342\n",
            "\n",
            "    accuracy                           0.92     29692\n",
            "   macro avg       0.92      0.92      0.92     29692\n",
            "weighted avg       0.92      0.92      0.92     29692\n",
            "\n"
          ]
        }
      ]
    },
    {
      "cell_type": "code",
      "source": [
        "cm = confusion_matrix(y_test, Clasificaciones_1)\n",
        "\n",
        "# plot the confusion matrix\n",
        "disp = ConfusionMatrixDisplay(cm, display_labels=np.unique(Clasificaciones_1))\n",
        "disp.plot()\n",
        "plt.show()"
      ],
      "metadata": {
        "colab": {
          "base_uri": "https://localhost:8080/",
          "height": 449
        },
        "id": "ZdCiNL6CKz9B",
        "outputId": "daa3f8bc-9504-426b-f5e2-cfce5264debd"
      },
      "id": "ZdCiNL6CKz9B",
      "execution_count": null,
      "outputs": [
        {
          "output_type": "display_data",
          "data": {
            "text/plain": [
              "<Figure size 640x480 with 2 Axes>"
            ],
            "image/png": "[encoded data removed]"
          },
          "metadata": {}
        }
      ]
    },
    {
      "cell_type": "markdown",
      "source": [
        "## K-Nearest Neighbors (KNN)"
      ],
      "metadata": {
        "id": "fnjoczCER4m5"
      },
      "id": "fnjoczCER4m5"
    },
    {
      "cell_type": "markdown",
      "source": [
        "### Entrenamiento"
      ],
      "metadata": {
        "id": "4gGlIz8jR9zH"
      },
      "id": "4gGlIz8jR9zH"
    },
    {
      "cell_type": "code",
      "source": [
        "KNN_pred = KNeighborsClassifier()\n",
        "start = time.time()\n",
        "KNN_pred.fit(X_train_tfidf, y_train)\n",
        "print(\"Tiempo de entrenamiento: \", time.time() - start)"
      ],
      "metadata": {
        "colab": {
          "base_uri": "https://localhost:8080/"
        },
        "id": "CjUrooG-SBKx",
        "outputId": "eba8ce3c-4e30-4787-a2d3-359da6cb410a"
      },
      "id": "CjUrooG-SBKx",
      "execution_count": null,
      "outputs": [
        {
          "output_type": "stream",
          "name": "stdout",
          "text": [
            "Tiempo de entrenamiento:  0.016132831573486328\n"
          ]
        }
      ]
    },
    {
      "cell_type": "code",
      "source": [
        "start = time.time()\n",
        "predictions = KNN_pred.predict(X_test_tfidf)\n",
        "print(\"Tiempo de predicción: \", time.time() - start)"
      ],
      "metadata": {
        "colab": {
          "base_uri": "https://localhost:8080/"
        },
        "id": "0PeHreXiSLcE",
        "outputId": "17a409ee-0050-4829-fecd-c74f96c2e472"
      },
      "id": "0PeHreXiSLcE",
      "execution_count": null,
      "outputs": [
        {
          "output_type": "stream",
          "name": "stdout",
          "text": [
            "Tiempo de predicción:  1451.4989731311798\n"
          ]
        }
      ]
    },
    {
      "cell_type": "code",
      "source": [
        "print(classification_report(y_test, predictions))"
      ],
      "metadata": {
        "colab": {
          "base_uri": "https://localhost:8080/"
        },
        "id": "F3NsVdS6SNYA",
        "outputId": "d9034d04-9582-4d03-fcab-d93e7eaa1f13"
      },
      "id": "F3NsVdS6SNYA",
      "execution_count": null,
      "outputs": [
        {
          "output_type": "stream",
          "name": "stdout",
          "text": [
            "              precision    recall  f1-score   support\n",
            "\n",
            "           0       0.90      0.89      0.90      7448\n",
            "           1       0.94      0.97      0.95      7445\n",
            "           2       0.86      0.87      0.87      7457\n",
            "           3       0.89      0.85      0.87      7342\n",
            "\n",
            "    accuracy                           0.90     29692\n",
            "   macro avg       0.90      0.90      0.90     29692\n",
            "weighted avg       0.90      0.90      0.90     29692\n",
            "\n"
          ]
        }
      ]
    },
    {
      "cell_type": "code",
      "source": [
        "cm = confusion_matrix(y_test, predictions)\n",
        "\n",
        "# Plot the confusion matrix\n",
        "disp = ConfusionMatrixDisplay(cm, display_labels=np.unique(y_test))\n",
        "disp.plot()\n",
        "plt.show()"
      ],
      "metadata": {
        "colab": {
          "base_uri": "https://localhost:8080/",
          "height": 449
        },
        "id": "KVyXtLWsSPHr",
        "outputId": "a2984fe0-bef5-4c5a-c20e-6c1ba0d8a03a"
      },
      "id": "KVyXtLWsSPHr",
      "execution_count": null,
      "outputs": [
        {
          "output_type": "display_data",
          "data": {
            "text/plain": [
              "<Figure size 640x480 with 2 Axes>"
            ],
            "image/png": "[encoded data removed]"
          },
          "metadata": {}
        }
      ]
    },
    {
      "cell_type": "markdown",
      "source": [
        "## Ramdom forest"
      ],
      "metadata": {
        "id": "vIs6SZcYUuyx"
      },
      "id": "vIs6SZcYUuyx"
    },
    {
      "cell_type": "markdown",
      "source": [
        "### Entrenamiento"
      ],
      "metadata": {
        "id": "OT4hjJ2hUxKA"
      },
      "id": "OT4hjJ2hUxKA"
    },
    {
      "cell_type": "code",
      "source": [
        "ClasificacionRF = RandomForestClassifier(criterion='gini', random_state=0)\n",
        "\n",
        "start = time.time()\n",
        "ClasificacionRF.fit(X_train_tfidf, y_train)\n",
        "print(\"Tiempo de entrenamiento: \", time.time() - start)"
      ],
      "metadata": {
        "colab": {
          "base_uri": "https://localhost:8080/"
        },
        "id": "v_eE4oBvU0xG",
        "outputId": "eb6d4e03-a9ef-4da0-ecad-38640a6d41be"
      },
      "id": "v_eE4oBvU0xG",
      "execution_count": null,
      "outputs": [
        {
          "output_type": "stream",
          "name": "stdout",
          "text": [
            "Tiempo de entrenamiento:  475.50550413131714\n"
          ]
        }
      ]
    },
    {
      "cell_type": "code",
      "source": [
        "start = time.time()\n",
        "Y_ClasificacionRF = ClasificacionRF.predict(X_test_tfidf)\n",
        "print(\"Tiempo de predicción: \", time.time() - start)"
      ],
      "metadata": {
        "colab": {
          "base_uri": "https://localhost:8080/"
        },
        "id": "HRcOF8kcU31c",
        "outputId": "2a1cb942-41bb-41ad-d78b-986ce65c4db9"
      },
      "id": "HRcOF8kcU31c",
      "execution_count": null,
      "outputs": [
        {
          "output_type": "stream",
          "name": "stdout",
          "text": [
            "Tiempo de predicción:  2.5400304794311523\n"
          ]
        }
      ]
    },
    {
      "cell_type": "code",
      "source": [
        "print(classification_report(y_test, Y_ClasificacionRF))"
      ],
      "metadata": {
        "colab": {
          "base_uri": "https://localhost:8080/"
        },
        "id": "BO2lS0eiU5ip",
        "outputId": "3ffafff9-b02f-4460-f776-048148434f7e"
      },
      "id": "BO2lS0eiU5ip",
      "execution_count": null,
      "outputs": [
        {
          "output_type": "stream",
          "name": "stdout",
          "text": [
            "              precision    recall  f1-score   support\n",
            "\n",
            "           0       0.92      0.88      0.90      7448\n",
            "           1       0.92      0.97      0.95      7445\n",
            "           2       0.87      0.86      0.86      7457\n",
            "           3       0.87      0.86      0.86      7342\n",
            "\n",
            "    accuracy                           0.89     29692\n",
            "   macro avg       0.89      0.89      0.89     29692\n",
            "weighted avg       0.89      0.89      0.89     29692\n",
            "\n"
          ]
        }
      ]
    },
    {
      "cell_type": "code",
      "source": [
        "cm = confusion_matrix(y_test, Y_ClasificacionRF)\n",
        "\n",
        "# Plot the confusion matrix\n",
        "disp = ConfusionMatrixDisplay(cm, display_labels=np.unique(Y_ClasificacionRF))\n",
        "disp.plot()\n",
        "plt.show()"
      ],
      "metadata": {
        "colab": {
          "base_uri": "https://localhost:8080/"
        },
        "id": "23dILl7RU7Br",
        "outputId": "3f4e8a6c-a0db-4768-c6fd-9b326937328c"
      },
      "id": "23dILl7RU7Br",
      "execution_count": null,
      "outputs": [
        {
          "output_type": "display_data",
          "data": {
            "text/plain": [
              "<Figure size 640x480 with 2 Axes>"
            ],
            "image/png": "[encoded data removed]"
          },
          "metadata": {}
        }
      ]
    },
    {
      "cell_type": "markdown",
      "source": [
        "## BERT"
      ],
      "metadata": {
        "id": "95nkUiurqW5C"
      },
      "id": "95nkUiurqW5C"
    },
    {
      "cell_type": "code",
      "source": [
        "!pip install tensorflow_text"
      ],
      "metadata": {
        "colab": {
          "base_uri": "https://localhost:8080/"
        },
        "id": "B9Qdq0J1u9ij",
        "outputId": "7b585335-3fd5-4c6f-c3e2-adedb608a75f"
      },
      "id": "B9Qdq0J1u9ij",
      "execution_count": 33,
      "outputs": [
        {
          "output_type": "stream",
          "name": "stdout",
          "text": [
            "Looking in indexes: https://pypi.org/simple, https://us-python.pkg.dev/colab-wheels/public/simple/\n",
            "Collecting tensorflow_text\n",
            "  Downloading tensorflow_text-2.12.1-cp310-cp310-manylinux_2_17_x86_64.manylinux2014_x86_64.whl (6.0 MB)\n",
            "\u001b[2K     \u001b[90m━━━━━━━━━━━━━━━━━━━━━━━━━━━━━━━━━━━━━━━━\u001b[0m \u001b[32m6.0/6.0 MB\u001b[0m \u001b[31m54.4 MB/s\u001b[0m eta \u001b[36m0:00:00\u001b[0m\n",
            "\u001b[?25hRequirement already satisfied: tensorflow-hub>=0.8.0 in /usr/local/lib/python3.10/dist-packages (from tensorflow_text) (0.13.0)\n",
            "Requirement already satisfied: tensorflow<2.13,>=2.12.0 in /usr/local/lib/python3.10/dist-packages (from tensorflow_text) (2.12.0)\n",
            "Requirement already satisfied: absl-py>=1.0.0 in /usr/local/lib/python3.10/dist-packages (from tensorflow<2.13,>=2.12.0->tensorflow_text) (1.4.0)\n",
            "Requirement already satisfied: astunparse>=1.6.0 in /usr/local/lib/python3.10/dist-packages (from tensorflow<2.13,>=2.12.0->tensorflow_text) (1.6.3)\n",
            "Requirement already satisfied: flatbuffers>=2.0 in /usr/local/lib/python3.10/dist-packages (from tensorflow<2.13,>=2.12.0->tensorflow_text) (23.3.3)\n",
            "Requirement already satisfied: gast<=0.4.0,>=0.2.1 in /usr/local/lib/python3.10/dist-packages (from tensorflow<2.13,>=2.12.0->tensorflow_text) (0.4.0)\n",
            "Requirement already satisfied: google-pasta>=0.1.1 in /usr/local/lib/python3.10/dist-packages (from tensorflow<2.13,>=2.12.0->tensorflow_text) (0.2.0)\n",
            "Requirement already satisfied: grpcio<2.0,>=1.24.3 in /usr/local/lib/python3.10/dist-packages (from tensorflow<2.13,>=2.12.0->tensorflow_text) (1.54.0)\n",
            "Requirement already satisfied: h5py>=2.9.0 in /usr/local/lib/python3.10/dist-packages (from tensorflow<2.13,>=2.12.0->tensorflow_text) (3.8.0)\n",
            "Requirement already satisfied: jax>=0.3.15 in /usr/local/lib/python3.10/dist-packages (from tensorflow<2.13,>=2.12.0->tensorflow_text) (0.4.10)\n",
            "Requirement already satisfied: keras<2.13,>=2.12.0 in /usr/local/lib/python3.10/dist-packages (from tensorflow<2.13,>=2.12.0->tensorflow_text) (2.12.0)\n",
            "Requirement already satisfied: libclang>=13.0.0 in /usr/local/lib/python3.10/dist-packages (from tensorflow<2.13,>=2.12.0->tensorflow_text) (16.0.0)\n",
            "Requirement already satisfied: numpy<1.24,>=1.22 in /usr/local/lib/python3.10/dist-packages (from tensorflow<2.13,>=2.12.0->tensorflow_text) (1.22.4)\n",
            "Requirement already satisfied: opt-einsum>=2.3.2 in /usr/local/lib/python3.10/dist-packages (from tensorflow<2.13,>=2.12.0->tensorflow_text) (3.3.0)\n",
            "Requirement already satisfied: packaging in /usr/local/lib/python3.10/dist-packages (from tensorflow<2.13,>=2.12.0->tensorflow_text) (23.1)\n",
            "Requirement already satisfied: protobuf!=4.21.0,!=4.21.1,!=4.21.2,!=4.21.3,!=4.21.4,!=4.21.5,<5.0.0dev,>=3.20.3 in /usr/local/lib/python3.10/dist-packages (from tensorflow<2.13,>=2.12.0->tensorflow_text) (3.20.3)\n",
            "Requirement already satisfied: setuptools in /usr/local/lib/python3.10/dist-packages (from tensorflow<2.13,>=2.12.0->tensorflow_text) (67.7.2)\n",
            "Requirement already satisfied: six>=1.12.0 in /usr/local/lib/python3.10/dist-packages (from tensorflow<2.13,>=2.12.0->tensorflow_text) (1.16.0)\n",
            "Requirement already satisfied: tensorboard<2.13,>=2.12 in /usr/local/lib/python3.10/dist-packages (from tensorflow<2.13,>=2.12.0->tensorflow_text) (2.12.2)\n",
            "Requirement already satisfied: tensorflow-estimator<2.13,>=2.12.0 in /usr/local/lib/python3.10/dist-packages (from tensorflow<2.13,>=2.12.0->tensorflow_text) (2.12.0)\n",
            "Requirement already satisfied: termcolor>=1.1.0 in /usr/local/lib/python3.10/dist-packages (from tensorflow<2.13,>=2.12.0->tensorflow_text) (2.3.0)\n",
            "Requirement already satisfied: typing-extensions>=3.6.6 in /usr/local/lib/python3.10/dist-packages (from tensorflow<2.13,>=2.12.0->tensorflow_text) (4.5.0)\n",
            "Requirement already satisfied: wrapt<1.15,>=1.11.0 in /usr/local/lib/python3.10/dist-packages (from tensorflow<2.13,>=2.12.0->tensorflow_text) (1.14.1)\n",
            "Requirement already satisfied: tensorflow-io-gcs-filesystem>=0.23.1 in /usr/local/lib/python3.10/dist-packages (from tensorflow<2.13,>=2.12.0->tensorflow_text) (0.32.0)\n",
            "Requirement already satisfied: wheel<1.0,>=0.23.0 in /usr/local/lib/python3.10/dist-packages (from astunparse>=1.6.0->tensorflow<2.13,>=2.12.0->tensorflow_text) (0.40.0)\n",
            "Requirement already satisfied: ml-dtypes>=0.1.0 in /usr/local/lib/python3.10/dist-packages (from jax>=0.3.15->tensorflow<2.13,>=2.12.0->tensorflow_text) (0.1.0)\n",
            "Requirement already satisfied: scipy>=1.7 in /usr/local/lib/python3.10/dist-packages (from jax>=0.3.15->tensorflow<2.13,>=2.12.0->tensorflow_text) (1.10.1)\n",
            "Requirement already satisfied: google-auth<3,>=1.6.3 in /usr/local/lib/python3.10/dist-packages (from tensorboard<2.13,>=2.12->tensorflow<2.13,>=2.12.0->tensorflow_text) (2.17.3)\n",
            "Requirement already satisfied: google-auth-oauthlib<1.1,>=0.5 in /usr/local/lib/python3.10/dist-packages (from tensorboard<2.13,>=2.12->tensorflow<2.13,>=2.12.0->tensorflow_text) (1.0.0)\n",
            "Requirement already satisfied: markdown>=2.6.8 in /usr/local/lib/python3.10/dist-packages (from tensorboard<2.13,>=2.12->tensorflow<2.13,>=2.12.0->tensorflow_text) (3.4.3)\n",
            "Requirement already satisfied: requests<3,>=2.21.0 in /usr/local/lib/python3.10/dist-packages (from tensorboard<2.13,>=2.12->tensorflow<2.13,>=2.12.0->tensorflow_text) (2.27.1)\n",
            "Requirement already satisfied: tensorboard-data-server<0.8.0,>=0.7.0 in /usr/local/lib/python3.10/dist-packages (from tensorboard<2.13,>=2.12->tensorflow<2.13,>=2.12.0->tensorflow_text) (0.7.0)\n",
            "Requirement already satisfied: tensorboard-plugin-wit>=1.6.0 in /usr/local/lib/python3.10/dist-packages (from tensorboard<2.13,>=2.12->tensorflow<2.13,>=2.12.0->tensorflow_text) (1.8.1)\n",
            "Requirement already satisfied: werkzeug>=1.0.1 in /usr/local/lib/python3.10/dist-packages (from tensorboard<2.13,>=2.12->tensorflow<2.13,>=2.12.0->tensorflow_text) (2.3.0)\n",
            "Requirement already satisfied: cachetools<6.0,>=2.0.0 in /usr/local/lib/python3.10/dist-packages (from google-auth<3,>=1.6.3->tensorboard<2.13,>=2.12->tensorflow<2.13,>=2.12.0->tensorflow_text) (5.3.0)\n",
            "Requirement already satisfied: pyasn1-modules>=0.2.1 in /usr/local/lib/python3.10/dist-packages (from google-auth<3,>=1.6.3->tensorboard<2.13,>=2.12->tensorflow<2.13,>=2.12.0->tensorflow_text) (0.3.0)\n",
            "Requirement already satisfied: rsa<5,>=3.1.4 in /usr/local/lib/python3.10/dist-packages (from google-auth<3,>=1.6.3->tensorboard<2.13,>=2.12->tensorflow<2.13,>=2.12.0->tensorflow_text) (4.9)\n",
            "Requirement already satisfied: requests-oauthlib>=0.7.0 in /usr/local/lib/python3.10/dist-packages (from google-auth-oauthlib<1.1,>=0.5->tensorboard<2.13,>=2.12->tensorflow<2.13,>=2.12.0->tensorflow_text) (1.3.1)\n",
            "Requirement already satisfied: urllib3<1.27,>=1.21.1 in /usr/local/lib/python3.10/dist-packages (from requests<3,>=2.21.0->tensorboard<2.13,>=2.12->tensorflow<2.13,>=2.12.0->tensorflow_text) (1.26.15)\n",
            "Requirement already satisfied: certifi>=2017.4.17 in /usr/local/lib/python3.10/dist-packages (from requests<3,>=2.21.0->tensorboard<2.13,>=2.12->tensorflow<2.13,>=2.12.0->tensorflow_text) (2022.12.7)\n",
            "Requirement already satisfied: charset-normalizer~=2.0.0 in /usr/local/lib/python3.10/dist-packages (from requests<3,>=2.21.0->tensorboard<2.13,>=2.12->tensorflow<2.13,>=2.12.0->tensorflow_text) (2.0.12)\n",
            "Requirement already satisfied: idna<4,>=2.5 in /usr/local/lib/python3.10/dist-packages (from requests<3,>=2.21.0->tensorboard<2.13,>=2.12->tensorflow<2.13,>=2.12.0->tensorflow_text) (3.4)\n",
            "Requirement already satisfied: MarkupSafe>=2.1.1 in /usr/local/lib/python3.10/dist-packages (from werkzeug>=1.0.1->tensorboard<2.13,>=2.12->tensorflow<2.13,>=2.12.0->tensorflow_text) (2.1.2)\n",
            "Requirement already satisfied: pyasn1<0.6.0,>=0.4.6 in /usr/local/lib/python3.10/dist-packages (from pyasn1-modules>=0.2.1->google-auth<3,>=1.6.3->tensorboard<2.13,>=2.12->tensorflow<2.13,>=2.12.0->tensorflow_text) (0.5.0)\n",
            "Requirement already satisfied: oauthlib>=3.0.0 in /usr/local/lib/python3.10/dist-packages (from requests-oauthlib>=0.7.0->google-auth-oauthlib<1.1,>=0.5->tensorboard<2.13,>=2.12->tensorflow<2.13,>=2.12.0->tensorflow_text) (3.2.2)\n",
            "Installing collected packages: tensorflow_text\n",
            "Successfully installed tensorflow_text-2.12.1\n"
          ]
        }
      ]
    },
    {
      "cell_type": "code",
      "source": [
        "import tensorflow_hub as hub\n",
        "import tensorflow_text as text"
      ],
      "metadata": {
        "id": "3UImagvly0Ks"
      },
      "id": "3UImagvly0Ks",
      "execution_count": 34,
      "outputs": []
    },
    {
      "cell_type": "code",
      "source": [
        "# Define a function to convert the label to a one-hot encoding\n",
        "def convert_label_to_one_hot(text, label):\n",
        "    one_hot_label = tf.one_hot(label, 4)\n",
        "    return text, one_hot_label\n",
        "\n",
        "# Apply the function to the dataset using map()\n",
        "raw_train_ds = raw_train_ds.map(convert_label_to_one_hot)\n",
        "raw_val_ds = raw_val_ds.map(convert_label_to_one_hot)\n",
        "raw_test_ds = raw_test_ds.map(convert_label_to_one_hot)\n",
        "\n",
        "batch_size = 16\n",
        "train_ds = raw_train_ds.shuffle(40538).batch(batch_size)\n",
        "val_ds = raw_val_ds.batch(batch_size)\n",
        "test_ds = raw_test_ds.batch(batch_size)"
      ],
      "metadata": {
        "id": "alvVXDTju9ze"
      },
      "execution_count": 35,
      "outputs": [],
      "id": "alvVXDTju9ze"
    },
    {
      "cell_type": "code",
      "source": [
        "for test_text, test_target in train_ds.take(1):\n",
        "    print(test_text[0],test_text[1], test_target[0])"
      ],
      "metadata": {
        "colab": {
          "base_uri": "https://localhost:8080/"
        },
        "outputId": "7cf76962-bb11-47f2-d61a-ad379ba1a0d8",
        "id": "DMVfWfeQu9zj"
      },
      "execution_count": 36,
      "outputs": [
        {
          "output_type": "stream",
          "name": "stdout",
          "text": [
            "tf.Tensor(b'opec cartel faces dilemma as oil prices fluctuateearly last summer opec looked as though it had successfully absorbed tremendous shocks to the oil market a strike in venezuela ethnic clashes in nigeria attacks on foreign workers in saudi arabia a war in iraq', shape=(), dtype=string) tf.Tensor(b'frances makes impact on dolphinsa loss of power at dolphins headquarters on saturday wasn 39t the only impact hurricane frances has made on the franchise of the nine players who didn 39t travel to new orleans for friday 39s 2019 ', shape=(), dtype=string) tf.Tensor([0. 0. 1. 0.], shape=(4,), dtype=float32)\n"
          ]
        }
      ],
      "id": "DMVfWfeQu9zj"
    },
    {
      "cell_type": "markdown",
      "source": [
        "### Modelo"
      ],
      "metadata": {
        "id": "JkeShNfeu9zl"
      },
      "id": "JkeShNfeu9zl"
    },
    {
      "cell_type": "code",
      "source": [
        "bert_model_path = 'https://tfhub.dev/tensorflow/small_bert/bert_en_uncased_L-4_H-512_A-8/1'\n",
        "bert_preprocess_path = 'https://tfhub.dev/tensorflow/bert_en_uncased_preprocess/3'"
      ],
      "metadata": {
        "id": "GHDXiz4Eu9zo"
      },
      "execution_count": 37,
      "outputs": [],
      "id": "GHDXiz4Eu9zo"
    },
    {
      "cell_type": "markdown",
      "source": [
        "- Capa de Preprocesamiento"
      ],
      "metadata": {
        "id": "rzq8uKG1u9zp"
      },
      "id": "rzq8uKG1u9zp"
    },
    {
      "cell_type": "code",
      "source": [
        "bert_preprocess_model = hub.KerasLayer(bert_preprocess_path)"
      ],
      "metadata": {
        "id": "AYppzGdJu9zq"
      },
      "execution_count": 38,
      "outputs": [],
      "id": "AYppzGdJu9zq"
    },
    {
      "cell_type": "code",
      "source": [
        "preprocess_output = bert_preprocess_model(test_text)\n",
        "preprocess_output"
      ],
      "metadata": {
        "colab": {
          "base_uri": "https://localhost:8080/"
        },
        "outputId": "7c1b7f86-8966-4a23-db4e-9b572558a84e",
        "id": "scNyZD_Ju9zq"
      },
      "execution_count": 39,
      "outputs": [
        {
          "output_type": "execute_result",
          "data": {
            "text/plain": [
              "{'input_word_ids': <tf.Tensor: shape=(16, 128), dtype=int32, numpy=\n",
              " array([[  101,  6728,  8586, ...,     0,     0,     0],\n",
              "        [  101, 10360,  3084, ...,     0,     0,     0],\n",
              "        [  101, 13138,  2575, ...,     0,     0,     0],\n",
              "        ...,\n",
              "        [  101,  8412,  3709, ...,     0,     0,     0],\n",
              "        [  101,  2013, 10900, ...,     0,     0,     0],\n",
              "        [  101,  2634, 10299, ...,     0,     0,     0]], dtype=int32)>,\n",
              " 'input_type_ids': <tf.Tensor: shape=(16, 128), dtype=int32, numpy=\n",
              " array([[0, 0, 0, ..., 0, 0, 0],\n",
              "        [0, 0, 0, ..., 0, 0, 0],\n",
              "        [0, 0, 0, ..., 0, 0, 0],\n",
              "        ...,\n",
              "        [0, 0, 0, ..., 0, 0, 0],\n",
              "        [0, 0, 0, ..., 0, 0, 0],\n",
              "        [0, 0, 0, ..., 0, 0, 0]], dtype=int32)>,\n",
              " 'input_mask': <tf.Tensor: shape=(16, 128), dtype=int32, numpy=\n",
              " array([[1, 1, 1, ..., 0, 0, 0],\n",
              "        [1, 1, 1, ..., 0, 0, 0],\n",
              "        [1, 1, 1, ..., 0, 0, 0],\n",
              "        ...,\n",
              "        [1, 1, 1, ..., 0, 0, 0],\n",
              "        [1, 1, 1, ..., 0, 0, 0],\n",
              "        [1, 1, 1, ..., 0, 0, 0]], dtype=int32)>}"
            ]
          },
          "metadata": {},
          "execution_count": 39
        }
      ],
      "id": "scNyZD_Ju9zq"
    },
    {
      "cell_type": "markdown",
      "source": [
        "- BERT"
      ],
      "metadata": {
        "id": "H15Rq_W3u9zr"
      },
      "id": "H15Rq_W3u9zr"
    },
    {
      "cell_type": "code",
      "source": [
        "bert_model = hub.KerasLayer(bert_model_path, trainable=False)\n",
        "bert_model(preprocess_output)['pooled_output']"
      ],
      "metadata": {
        "colab": {
          "base_uri": "https://localhost:8080/"
        },
        "outputId": "0b5fe0b8-646b-4d11-bbd5-899ca1f8716d",
        "id": "koCrMrUku9zs"
      },
      "execution_count": 40,
      "outputs": [
        {
          "output_type": "execute_result",
          "data": {
            "text/plain": [
              "<tf.Tensor: shape=(16, 512), dtype=float32, numpy=\n",
              "array([[ 0.8253783 ,  0.8600333 ,  0.04252807, ...,  0.10810506,\n",
              "        -0.45921278, -0.9786928 ],\n",
              "       [ 0.58530957,  0.9428049 ,  0.03660142, ..., -0.1322897 ,\n",
              "        -0.590157  , -0.64323044],\n",
              "       [ 0.76352286,  0.6258958 , -0.02937633, ..., -0.03738722,\n",
              "        -0.32453293,  0.18395445],\n",
              "       ...,\n",
              "       [ 0.74222803, -0.91792065,  0.23999548, ...,  0.1996756 ,\n",
              "        -0.40172106, -0.4905487 ],\n",
              "       [ 0.73088616, -0.11930569, -0.10878266, ..., -0.28955758,\n",
              "        -0.47674036, -0.9542968 ],\n",
              "       [-0.17888607,  0.98126304, -0.04751549, ...,  0.02809603,\n",
              "        -0.63525265, -0.9495635 ]], dtype=float32)>"
            ]
          },
          "metadata": {},
          "execution_count": 40
        }
      ],
      "id": "koCrMrUku9zs"
    },
    {
      "cell_type": "markdown",
      "source": [
        "- Modelo"
      ],
      "metadata": {
        "id": "FHnY3EjBu9zu"
      },
      "id": "FHnY3EjBu9zu"
    },
    {
      "cell_type": "code",
      "source": [
        "def get_model(bert_model_path, bert_preprocess_model, trainable):\n",
        "    preprocess_model = hub.KerasLayer(bert_preprocess_model)\n",
        "    bert_model = hub.KerasLayer(bert_model_path, trainable=trainable)\n",
        "\n",
        "    text_input = tf.keras.layers.Input(shape=(), dtype=tf.string, name='text')\n",
        "    preprocess_text = bert_preprocess_model(text_input)\n",
        "    bert_output = bert_model(preprocess_text)['pooled_output']\n",
        "    x = tf.keras.layers.Dense(128, activation='relu')(bert_output)\n",
        "    output = tf.keras.layers.Dense(4)(x)\n",
        "    small_bert = tf.keras.Model(text_input, output)\n",
        "    return small_bert\n",
        "\n",
        "freeze_bert = get_model(bert_model_path, bert_preprocess_model, trainable=False)"
      ],
      "metadata": {
        "id": "Ry24Eieku9zv"
      },
      "execution_count": 41,
      "outputs": [],
      "id": "Ry24Eieku9zv"
    },
    {
      "cell_type": "code",
      "source": [
        "freeze_bert(test_text)"
      ],
      "metadata": {
        "colab": {
          "base_uri": "https://localhost:8080/"
        },
        "outputId": "f0e92ed3-07ac-47df-8435-b6b6434dd605",
        "id": "Mwf509DFu9zv"
      },
      "execution_count": 42,
      "outputs": [
        {
          "output_type": "execute_result",
          "data": {
            "text/plain": [
              "<tf.Tensor: shape=(16, 4), dtype=float32, numpy=\n",
              "array([[-0.28787258,  0.51090044,  1.0862664 ,  1.1247712 ],\n",
              "       [-0.15085292,  0.8753804 ,  0.51899004,  0.24328277],\n",
              "       [-0.09370159,  0.40169945,  0.9805064 ,  0.75862557],\n",
              "       [-0.66560936,  0.9293699 ,  0.5402104 ,  0.29870307],\n",
              "       [ 0.06270113,  0.361592  ,  1.027256  ,  0.32091984],\n",
              "       [-0.24077979,  0.81324065,  0.69586384,  0.76294214],\n",
              "       [-0.41495585,  0.5011185 ,  0.6728263 ,  0.31569678],\n",
              "       [ 0.04096322,  0.4677511 ,  0.69384027,  0.3682333 ],\n",
              "       [-0.1180884 ,  0.549535  ,  0.46422517,  0.2991556 ],\n",
              "       [ 0.23329572,  0.4599059 ,  0.79179716,  0.62501657],\n",
              "       [-0.4664019 ,  0.64348024,  1.0128192 ,  0.276591  ],\n",
              "       [ 0.04034133,  0.75057036,  0.5062194 ,  0.84290785],\n",
              "       [ 0.08230428,  0.34544528,  2.2770355 ,  1.2199572 ],\n",
              "       [-0.27084616,  0.6750698 ,  0.8714748 ,  0.36423117],\n",
              "       [-0.61832845,  0.85920286,  1.3923521 ,  0.54908687],\n",
              "       [-0.70260483,  0.37699145,  0.9125086 , -0.02473144]],\n",
              "      dtype=float32)>"
            ]
          },
          "metadata": {},
          "execution_count": 42
        }
      ],
      "id": "Mwf509DFu9zv"
    },
    {
      "cell_type": "code",
      "source": [
        "freeze_bert.summary()"
      ],
      "metadata": {
        "colab": {
          "base_uri": "https://localhost:8080/"
        },
        "outputId": "86845545-5e20-4bb2-9978-8107bfa3a482",
        "id": "ZBeWV3KHu9zx"
      },
      "execution_count": 43,
      "outputs": [
        {
          "output_type": "stream",
          "name": "stdout",
          "text": [
            "Model: \"model\"\n",
            "__________________________________________________________________________________________________\n",
            " Layer (type)                   Output Shape         Param #     Connected to                     \n",
            "==================================================================================================\n",
            " text (InputLayer)              [(None,)]            0           []                               \n",
            "                                                                                                  \n",
            " keras_layer (KerasLayer)       {'input_word_ids':   0           ['text[0][0]']                   \n",
            "                                (None, 128),                                                      \n",
            "                                 'input_type_ids':                                                \n",
            "                                (None, 128),                                                      \n",
            "                                 'input_mask': (Non                                               \n",
            "                                e, 128)}                                                          \n",
            "                                                                                                  \n",
            " keras_layer_3 (KerasLayer)     {'encoder_outputs':  28763649    ['keras_layer[0][0]',            \n",
            "                                 [(None, 128, 512),               'keras_layer[0][1]',            \n",
            "                                 (None, 128, 512),                'keras_layer[0][2]']            \n",
            "                                 (None, 128, 512),                                                \n",
            "                                 (None, 128, 512)],                                               \n",
            "                                 'pooled_output': (                                               \n",
            "                                None, 512),                                                       \n",
            "                                 'default': (None,                                                \n",
            "                                512),                                                             \n",
            "                                 'sequence_output':                                               \n",
            "                                 (None, 128, 512)}                                                \n",
            "                                                                                                  \n",
            " dense (Dense)                  (None, 128)          65664       ['keras_layer_3[0][5]']          \n",
            "                                                                                                  \n",
            " dense_1 (Dense)                (None, 4)            516         ['dense[0][0]']                  \n",
            "                                                                                                  \n",
            "==================================================================================================\n",
            "Total params: 28,829,829\n",
            "Trainable params: 66,180\n",
            "Non-trainable params: 28,763,649\n",
            "__________________________________________________________________________________________________\n"
          ]
        }
      ],
      "id": "ZBeWV3KHu9zx"
    },
    {
      "cell_type": "markdown",
      "source": [
        "### Entrenamiento"
      ],
      "metadata": {
        "id": "Nq5IMJZnu9zy"
      },
      "id": "Nq5IMJZnu9zy"
    },
    {
      "cell_type": "markdown",
      "source": [
        "- Entrenamiento de la primera capa"
      ],
      "metadata": {
        "id": "oNN6rp7Cu9zz"
      },
      "id": "oNN6rp7Cu9zz"
    },
    {
      "cell_type": "code",
      "source": [
        "lr = 0.0001\n",
        "opt = tf.keras.optimizers.Adam(learning_rate=lr)\n",
        "\n",
        "freeze_bert.compile(loss=tf.keras.losses.CategoricalCrossentropy(from_logits=True),\n",
        "                    optimizer=opt,\n",
        "                    metrics=['accuracy'])"
      ],
      "metadata": {
        "id": "7K3W_67Yu9z0"
      },
      "execution_count": 44,
      "outputs": [],
      "id": "7K3W_67Yu9z0"
    },
    {
      "cell_type": "code",
      "source": [
        "epochs = 3\n",
        "history = freeze_bert.fit(\n",
        "    train_ds,\n",
        "    validation_data=val_ds,\n",
        "    epochs=epochs)"
      ],
      "metadata": {
        "colab": {
          "base_uri": "https://localhost:8080/"
        },
        "outputId": "4cbb41bc-f5ac-41fa-e61a-3faf3ee77e3e",
        "id": "M68A-RHAu9z0"
      },
      "execution_count": 45,
      "outputs": [
        {
          "output_type": "stream",
          "name": "stdout",
          "text": [
            "Epoch 1/3\n",
            "6949/6949 [==============================] - 398s 56ms/step - loss: 0.4265 - accuracy: 0.8500 - val_loss: 0.3527 - val_accuracy: 0.8745\n",
            "Epoch 2/3\n",
            "6949/6949 [==============================] - 403s 58ms/step - loss: 0.3648 - accuracy: 0.8713 - val_loss: 0.3330 - val_accuracy: 0.8809\n",
            "Epoch 3/3\n",
            "6949/6949 [==============================] - 391s 56ms/step - loss: 0.3499 - accuracy: 0.8761 - val_loss: 0.3387 - val_accuracy: 0.8789\n"
          ]
        }
      ],
      "id": "M68A-RHAu9z0"
    },
    {
      "cell_type": "markdown",
      "source": [
        "- Evaluación primera capa"
      ],
      "metadata": {
        "id": "EyUGE-SEu9z1"
      },
      "id": "EyUGE-SEu9z1"
    },
    {
      "cell_type": "code",
      "source": [
        "freeze_bert.evaluate(test_ds)"
      ],
      "metadata": {
        "colab": {
          "base_uri": "https://localhost:8080/"
        },
        "outputId": "593cd8dd-6e18-44a9-eae1-dc27513a6b8a",
        "id": "YVULs5Fsu9z2"
      },
      "execution_count": 46,
      "outputs": [
        {
          "output_type": "stream",
          "name": "stdout",
          "text": [
            "475/475 [==============================] - 25s 53ms/step - loss: 0.3605 - accuracy: 0.8744\n"
          ]
        },
        {
          "output_type": "execute_result",
          "data": {
            "text/plain": [
              "[0.360536128282547, 0.874374508857727]"
            ]
          },
          "metadata": {},
          "execution_count": 46
        }
      ],
      "id": "YVULs5Fsu9z2"
    },
    {
      "cell_type": "markdown",
      "source": [
        "- Entrenamiento de todas las capas"
      ],
      "metadata": {
        "id": "Ug5GKYwCu9z2"
      },
      "id": "Ug5GKYwCu9z2"
    },
    {
      "cell_type": "code",
      "source": [
        "full_bert = get_model(bert_model_path, bert_preprocess_model, trainable=True)"
      ],
      "metadata": {
        "id": "Fy4bRNqfu9z2"
      },
      "execution_count": 47,
      "outputs": [],
      "id": "Fy4bRNqfu9z2"
    },
    {
      "cell_type": "code",
      "source": [
        "full_bert.summary()"
      ],
      "metadata": {
        "id": "AbFAS0Awu9z3",
        "colab": {
          "base_uri": "https://localhost:8080/"
        },
        "outputId": "b6de6711-ca30-4210-ddd6-4de5145715f9"
      },
      "execution_count": 48,
      "outputs": [
        {
          "output_type": "stream",
          "name": "stdout",
          "text": [
            "Model: \"model_1\"\n",
            "__________________________________________________________________________________________________\n",
            " Layer (type)                   Output Shape         Param #     Connected to                     \n",
            "==================================================================================================\n",
            " text (InputLayer)              [(None,)]            0           []                               \n",
            "                                                                                                  \n",
            " keras_layer (KerasLayer)       {'input_word_ids':   0           ['text[0][0]']                   \n",
            "                                (None, 128),                                                      \n",
            "                                 'input_type_ids':                                                \n",
            "                                (None, 128),                                                      \n",
            "                                 'input_mask': (Non                                               \n",
            "                                e, 128)}                                                          \n",
            "                                                                                                  \n",
            " keras_layer_5 (KerasLayer)     {'sequence_output':  28763649    ['keras_layer[1][0]',            \n",
            "                                 (None, 128, 512),                'keras_layer[1][1]',            \n",
            "                                 'encoder_outputs':               'keras_layer[1][2]']            \n",
            "                                 [(None, 128, 512),                                               \n",
            "                                 (None, 128, 512),                                                \n",
            "                                 (None, 128, 512),                                                \n",
            "                                 (None, 128, 512)],                                               \n",
            "                                 'pooled_output': (                                               \n",
            "                                None, 512),                                                       \n",
            "                                 'default': (None,                                                \n",
            "                                512)}                                                             \n",
            "                                                                                                  \n",
            " dense_2 (Dense)                (None, 128)          65664       ['keras_layer_5[0][5]']          \n",
            "                                                                                                  \n",
            " dense_3 (Dense)                (None, 4)            516         ['dense_2[0][0]']                \n",
            "                                                                                                  \n",
            "==================================================================================================\n",
            "Total params: 28,829,829\n",
            "Trainable params: 28,829,828\n",
            "Non-trainable params: 1\n",
            "__________________________________________________________________________________________________\n"
          ]
        }
      ],
      "id": "AbFAS0Awu9z3"
    },
    {
      "cell_type": "code",
      "source": [
        "lr = 0.0001\n",
        "opt = tf.keras.optimizers.Adam(learning_rate=lr)\n",
        "\n",
        "full_bert.compile(loss=tf.keras.losses.CategoricalCrossentropy(from_logits=True),\n",
        "                    optimizer=opt,\n",
        "                    metrics=['accuracy'])"
      ],
      "metadata": {
        "id": "2WuIn8w3u9z3"
      },
      "execution_count": 49,
      "outputs": [],
      "id": "2WuIn8w3u9z3"
    },
    {
      "cell_type": "code",
      "source": [
        "epochs = 1\n",
        "history = full_bert.fit(\n",
        "    train_ds,\n",
        "    validation_data=val_ds,\n",
        "    epochs=epochs)"
      ],
      "metadata": {
        "colab": {
          "base_uri": "https://localhost:8080/"
        },
        "outputId": "f6022450-1e50-4127-e592-80a3261e701f",
        "id": "-CGTtw7su9z4"
      },
      "execution_count": 51,
      "outputs": [
        {
          "output_type": "stream",
          "name": "stdout",
          "text": [
            "6949/6949 [==============================] - 816s 117ms/step - loss: 0.2779 - accuracy: 0.9067 - val_loss: 0.2382 - val_accuracy: 0.9171\n"
          ]
        }
      ],
      "id": "-CGTtw7su9z4"
    },
    {
      "cell_type": "markdown",
      "source": [
        "- Evaluación de todas las capas"
      ],
      "metadata": {
        "id": "x_4XJrTqu9z4"
      },
      "id": "x_4XJrTqu9z4"
    },
    {
      "cell_type": "code",
      "source": [
        "full_bert.evaluate(test_ds)"
      ],
      "metadata": {
        "colab": {
          "base_uri": "https://localhost:8080/"
        },
        "outputId": "93691caf-0c17-4e37-bec3-9bc224497caf",
        "id": "5mzqNKWcu9z5"
      },
      "execution_count": 52,
      "outputs": [
        {
          "output_type": "stream",
          "name": "stdout",
          "text": [
            "475/475 [==============================] - 25s 52ms/step - loss: 0.2394 - accuracy: 0.9223\n"
          ]
        },
        {
          "output_type": "execute_result",
          "data": {
            "text/plain": [
              "[0.2394104152917862, 0.9223070740699768]"
            ]
          },
          "metadata": {},
          "execution_count": 52
        }
      ],
      "id": "5mzqNKWcu9z5"
    },
    {
      "cell_type": "code",
      "source": [
        "classifierB = estimator(full_bert, class_names)\n",
        "\n",
        "displayB = ConfusionMatrixDisplay.from_estimator(\n",
        "        classifierB,\n",
        "        X_test,\n",
        "        y_test,\n",
        "        display_labels=class_names,\n",
        "        cmap=plot.cm.Blues\n",
        ")"
      ],
      "metadata": {
        "colab": {
          "base_uri": "https://localhost:8080/",
          "height": 467
        },
        "outputId": "ef1bc116-17f4-46d1-e954-36bbf500c6fa",
        "id": "iGfOvFGhliFa"
      },
      "execution_count": 55,
      "outputs": [
        {
          "output_type": "stream",
          "name": "stdout",
          "text": [
            "238/238 [==============================] - 26s 107ms/step\n"
          ]
        },
        {
          "output_type": "display_data",
          "data": {
            "text/plain": [
              "<Figure size 640x480 with 2 Axes>"
            ],
            "image/png": "[encoded data removed]"
          },
          "metadata": {}
        }
      ],
      "id": "iGfOvFGhliFa"
    },
    {
      "cell_type": "code",
      "source": [
        "y_predB = classifierB.predict(X_test)\n",
        "print(classification_report(y_predB,y_test,target_names=class_names  ))"
      ],
      "metadata": {
        "colab": {
          "base_uri": "https://localhost:8080/"
        },
        "outputId": "2a2759c6-42ad-4dca-b5df-b4e7d7928eed",
        "id": "2S9lsXhfliFb"
      },
      "execution_count": 56,
      "outputs": [
        {
          "output_type": "stream",
          "name": "stdout",
          "text": [
            "238/238 [==============================] - 25s 107ms/step\n",
            "               precision    recall  f1-score   support\n",
            "\n",
            "Internacional       0.93      0.94      0.93      1870\n",
            "     Deportes       0.98      0.97      0.98      1917\n",
            "     Negocios       0.85      0.92      0.88      1753\n",
            "      Ciencia       0.93      0.86      0.90      2054\n",
            "\n",
            "     accuracy                           0.92      7594\n",
            "    macro avg       0.92      0.92      0.92      7594\n",
            " weighted avg       0.92      0.92      0.92      7594\n",
            "\n"
          ]
        }
      ],
      "id": "2S9lsXhfliFb"
    },
    {
      "cell_type": "markdown",
      "source": [
        "## Gráficas de Tiempos de entrenamiento y predicción"
      ],
      "metadata": {
        "id": "Mx1gPUDnj_yv"
      },
      "id": "Mx1gPUDnj_yv"
    },
    {
      "cell_type": "code",
      "source": [
        "import matplotlib.pyplot as plt\n",
        "import numpy as np\n",
        "\n",
        "# Datos de ejemplo de los tiempos de ejecución de los algoritmos (en segundos)\n",
        "tiempos_ejecucion = [76, 47, 0.176, 87.416, 1541.818, 0.016, 475.505, 816]\n",
        "\n",
        "# Nombres de los algoritmos\n",
        "nombres_algoritmos = ['RED NEURONAL SIN DROPOUT', 'RED NEURONAL CON DROPOUT',\n",
        "                      'NAIVE BAYES', 'ÁRBOL DE DECISIÓN', 'SUPPORT VECTOR MACHINES',\n",
        "                      'K-NEAREST NEIGHBORS', 'RANDOM FOREST', 'BERT']\n",
        "\n",
        "# Generar la paleta de colores azules\n",
        "colores = plt.cm.Blues(np.linspace(0.2, 0.8, len(tiempos_ejecucion)))\n",
        "\n",
        "# Crear la gráfica de barras\n",
        "plt.bar(nombres_algoritmos, tiempos_ejecucion, color=colores)\n",
        "\n",
        "# Agregar etiquetas y título\n",
        "plt.xlabel('Algoritmos')\n",
        "plt.ylabel('Tiempo de ejecución (segundos)')\n",
        "plt.title('Tiempos de entrenamiento de los algoritmos')\n",
        "\n",
        "# Rotar los nombres de los algoritmos en el eje x\n",
        "plt.xticks(rotation=90)\n",
        "\n",
        "# Ajustar el espaciado para evitar la superposición de los nombres\n",
        "plt.tight_layout()\n",
        "\n",
        "# Configurar la escala logarítmica en el eje y\n",
        "plt.yscale('log')\n",
        "\n",
        "# Mostrar la gráfica\n",
        "plt.show()"
      ],
      "metadata": {
        "colab": {
          "base_uri": "https://localhost:8080/",
          "height": 487
        },
        "id": "rVBQGnh4A_kS",
        "outputId": "cf983fec-2f83-4894-b356-98297ce43b73"
      },
      "id": "rVBQGnh4A_kS",
      "execution_count": 61,
      "outputs": [
        {
          "output_type": "display_data",
          "data": {
            "text/plain": [
              "<Figure size 640x480 with 1 Axes>"
            ],
            "image/png": "[encoded data removed]"
          },
          "metadata": {}
        }
      ]
    },
    {
      "cell_type": "code",
      "source": [
        "import matplotlib.pyplot as plt\n",
        "import numpy as np\n",
        "\n",
        "# Datos de ejemplo de los tiempos de ejecución de los algoritmos (en segundos)\n",
        "tiempos_ejecucion = [0.952, 0.952, 0.018, 0.054, 202.229, 1451.498, 2.540, 2]\n",
        "\n",
        "# Nombres de los algoritmos\n",
        "nombres_algoritmos = ['RED NEURONAL SIN DROPOUT', 'RED NEURONAL CON DROPOUT',\n",
        "                      'NAIVE BAYES', 'ÁRBOL DE DECISIÓN', 'SUPPORT VECTOR MACHINES',\n",
        "                      'K-NEAREST NEIGHBORS', 'RANDOM FOREST', 'BERT']\n",
        "\n",
        "# Generar la paleta de colores azules\n",
        "colores = plt.cm.Blues(np.linspace(0.2, 0.8, len(tiempos_ejecucion)))\n",
        "\n",
        "# Crear la gráfica de barras\n",
        "plt.bar(nombres_algoritmos, tiempos_ejecucion, color=colores)\n",
        "\n",
        "# Agregar etiquetas y título\n",
        "plt.xlabel('Algoritmos')\n",
        "plt.ylabel('Tiempo de ejecución (segundos)')\n",
        "plt.title('Tiempos de predicción de los algoritmos')\n",
        "\n",
        "# Rotar los nombres de los algoritmos en el eje x\n",
        "plt.xticks(rotation=90)\n",
        "\n",
        "# Ajustar el espaciado para evitar la superposición de los nombres\n",
        "plt.tight_layout()\n",
        "\n",
        "# Configurar la escala logarítmica en el eje y\n",
        "plt.yscale('log')\n",
        "\n",
        "# Mostrar la gráfica\n",
        "plt.show()\n"
      ],
      "metadata": {
        "colab": {
          "base_uri": "https://localhost:8080/",
          "height": 487
        },
        "id": "JsA7Js9U0tzS",
        "outputId": "23132b0f-1913-431d-b164-b39473343430"
      },
      "id": "JsA7Js9U0tzS",
      "execution_count": 62,
      "outputs": [
        {
          "output_type": "display_data",
          "data": {
            "text/plain": [
              "<Figure size 640x480 with 1 Axes>"
            ],
            "image/png": "[encoded data removed]"
          },
          "metadata": {}
        }
      ]
    },
    {
      "cell_type": "markdown",
      "source": [
        "## Referencias"
      ],
      "metadata": {
        "id": "w62zPz2eDZJM"
      },
      "id": "w62zPz2eDZJM"
    },
    {
      "cell_type": "markdown",
      "source": [
        "- https://www.kaggle.com/datasets/amananandrai/ag-news-classification-dataset?select=train.csv\n",
        "\n",
        "- https://www.tensorflow.org/api_docs/python/tf/data/Dataset#map\n",
        "\n",
        "- https://www.tensorflow.org/api_docs/python/tf/keras/Model\n",
        "\n",
        "- https://www.tensorflow.org/api_docs/python/tf/keras/callbacks/ModelCheckpoint\n",
        "\n",
        "- https://www.tensorflow.org/api_docs/python/tf/keras/layers/Dropout\n",
        "\n",
        "- https://www.tensorflow.org/guide/keras/train_and_evaluate"
      ],
      "metadata": {
        "id": "Fn_6OS9fkD0k"
      },
      "id": "Fn_6OS9fkD0k"
    }
  ],
  "metadata": {
    "kernelspec": {
      "display_name": "Python 3",
      "name": "python3"
    },
    "language_info": {
      "codemirror_mode": {
        "name": "ipython",
        "version": 3
      },
      "file_extension": ".py",
      "mimetype": "text/x-python",
      "name": "python",
      "nbconvert_exporter": "python",
      "pygments_lexer": "ipython3",
      "version": "3.9.16"
    },
    "colab": {
      "provenance": [],
      "toc_visible": true,
      "gpuType": "T4"
    },
    "accelerator": "GPU"
  },
  "nbformat": 4,
  "nbformat_minor": 5
}